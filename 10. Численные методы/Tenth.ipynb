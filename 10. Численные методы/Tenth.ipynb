{
 "cells": [
  {
   "cell_type": "markdown",
   "metadata": {},
   "source": [
    "# Определение стоимости автомобилей"
   ]
  },
  {
   "cell_type": "markdown",
   "metadata": {},
   "source": [
    "Сервис по продаже автомобилей с пробегом «Не бит, не крашен» разрабатывает приложение для привлечения новых клиентов. В нём можно быстро узнать рыночную стоимость своего автомобиля. В вашем распоряжении исторические данные: технические характеристики, комплектации и цены автомобилей. Вам нужно построить модель для определения стоимости. \n",
    "\n",
    "Заказчику важны:\n",
    "\n",
    "- качество предсказания;\n",
    "- скорость предсказания;\n",
    "- время обучения."
   ]
  },
  {
   "cell_type": "markdown",
   "metadata": {},
   "source": [
    "## Подготовка данных"
   ]
  },
  {
   "cell_type": "code",
   "execution_count": 113,
   "metadata": {},
   "outputs": [],
   "source": [
    "import pandas as pd\n",
    "import numpy as np\n",
    "import matplotlib.pyplot as plt\n",
    "import seaborn as sns\n",
    "from sklearn.preprocessing import StandardScaler\n",
    "from sklearn.model_selection import train_test_split, cross_val_score, GridSearchCV, KFold\n",
    "from sklearn.linear_model import LinearRegression\n",
    "from sklearn.metrics import mean_squared_error, make_scorer\n",
    "from catboost import CatBoostRegressor\n",
    "from sklearn.tree import DecisionTreeRegressor\n",
    "from lightgbm import LGBMRegressor\n",
    "import lightgbm as lgb\n",
    "from sklearn.preprocessing import LabelEncoder\n",
    "\n",
    "import warnings\n",
    "warnings.filterwarnings('ignore')"
   ]
  },
  {
   "cell_type": "markdown",
   "metadata": {},
   "source": [
    "Откроем датасет и ознакомимся с данными"
   ]
  },
  {
   "cell_type": "code",
   "execution_count": 2,
   "metadata": {},
   "outputs": [
    {
     "data": {
      "text/html": [
       "<div>\n",
       "<style scoped>\n",
       "    .dataframe tbody tr th:only-of-type {\n",
       "        vertical-align: middle;\n",
       "    }\n",
       "\n",
       "    .dataframe tbody tr th {\n",
       "        vertical-align: top;\n",
       "    }\n",
       "\n",
       "    .dataframe thead th {\n",
       "        text-align: right;\n",
       "    }\n",
       "</style>\n",
       "<table border=\"1\" class=\"dataframe\">\n",
       "  <thead>\n",
       "    <tr style=\"text-align: right;\">\n",
       "      <th></th>\n",
       "      <th>DateCrawled</th>\n",
       "      <th>Price</th>\n",
       "      <th>VehicleType</th>\n",
       "      <th>RegistrationYear</th>\n",
       "      <th>Gearbox</th>\n",
       "      <th>Power</th>\n",
       "      <th>Model</th>\n",
       "      <th>Kilometer</th>\n",
       "      <th>RegistrationMonth</th>\n",
       "      <th>FuelType</th>\n",
       "      <th>Brand</th>\n",
       "      <th>NotRepaired</th>\n",
       "      <th>DateCreated</th>\n",
       "      <th>NumberOfPictures</th>\n",
       "      <th>PostalCode</th>\n",
       "      <th>LastSeen</th>\n",
       "    </tr>\n",
       "  </thead>\n",
       "  <tbody>\n",
       "    <tr>\n",
       "      <td>0</td>\n",
       "      <td>2016-03-24 11:52:17</td>\n",
       "      <td>480</td>\n",
       "      <td>NaN</td>\n",
       "      <td>1993</td>\n",
       "      <td>manual</td>\n",
       "      <td>0</td>\n",
       "      <td>golf</td>\n",
       "      <td>150000</td>\n",
       "      <td>0</td>\n",
       "      <td>petrol</td>\n",
       "      <td>volkswagen</td>\n",
       "      <td>NaN</td>\n",
       "      <td>2016-03-24 00:00:00</td>\n",
       "      <td>0</td>\n",
       "      <td>70435</td>\n",
       "      <td>2016-04-07 03:16:57</td>\n",
       "    </tr>\n",
       "    <tr>\n",
       "      <td>1</td>\n",
       "      <td>2016-03-24 10:58:45</td>\n",
       "      <td>18300</td>\n",
       "      <td>coupe</td>\n",
       "      <td>2011</td>\n",
       "      <td>manual</td>\n",
       "      <td>190</td>\n",
       "      <td>NaN</td>\n",
       "      <td>125000</td>\n",
       "      <td>5</td>\n",
       "      <td>gasoline</td>\n",
       "      <td>audi</td>\n",
       "      <td>yes</td>\n",
       "      <td>2016-03-24 00:00:00</td>\n",
       "      <td>0</td>\n",
       "      <td>66954</td>\n",
       "      <td>2016-04-07 01:46:50</td>\n",
       "    </tr>\n",
       "    <tr>\n",
       "      <td>2</td>\n",
       "      <td>2016-03-14 12:52:21</td>\n",
       "      <td>9800</td>\n",
       "      <td>suv</td>\n",
       "      <td>2004</td>\n",
       "      <td>auto</td>\n",
       "      <td>163</td>\n",
       "      <td>grand</td>\n",
       "      <td>125000</td>\n",
       "      <td>8</td>\n",
       "      <td>gasoline</td>\n",
       "      <td>jeep</td>\n",
       "      <td>NaN</td>\n",
       "      <td>2016-03-14 00:00:00</td>\n",
       "      <td>0</td>\n",
       "      <td>90480</td>\n",
       "      <td>2016-04-05 12:47:46</td>\n",
       "    </tr>\n",
       "    <tr>\n",
       "      <td>3</td>\n",
       "      <td>2016-03-17 16:54:04</td>\n",
       "      <td>1500</td>\n",
       "      <td>small</td>\n",
       "      <td>2001</td>\n",
       "      <td>manual</td>\n",
       "      <td>75</td>\n",
       "      <td>golf</td>\n",
       "      <td>150000</td>\n",
       "      <td>6</td>\n",
       "      <td>petrol</td>\n",
       "      <td>volkswagen</td>\n",
       "      <td>no</td>\n",
       "      <td>2016-03-17 00:00:00</td>\n",
       "      <td>0</td>\n",
       "      <td>91074</td>\n",
       "      <td>2016-03-17 17:40:17</td>\n",
       "    </tr>\n",
       "    <tr>\n",
       "      <td>4</td>\n",
       "      <td>2016-03-31 17:25:20</td>\n",
       "      <td>3600</td>\n",
       "      <td>small</td>\n",
       "      <td>2008</td>\n",
       "      <td>manual</td>\n",
       "      <td>69</td>\n",
       "      <td>fabia</td>\n",
       "      <td>90000</td>\n",
       "      <td>7</td>\n",
       "      <td>gasoline</td>\n",
       "      <td>skoda</td>\n",
       "      <td>no</td>\n",
       "      <td>2016-03-31 00:00:00</td>\n",
       "      <td>0</td>\n",
       "      <td>60437</td>\n",
       "      <td>2016-04-06 10:17:21</td>\n",
       "    </tr>\n",
       "  </tbody>\n",
       "</table>\n",
       "</div>"
      ],
      "text/plain": [
       "           DateCrawled  Price VehicleType  RegistrationYear Gearbox  Power  \\\n",
       "0  2016-03-24 11:52:17    480         NaN              1993  manual      0   \n",
       "1  2016-03-24 10:58:45  18300       coupe              2011  manual    190   \n",
       "2  2016-03-14 12:52:21   9800         suv              2004    auto    163   \n",
       "3  2016-03-17 16:54:04   1500       small              2001  manual     75   \n",
       "4  2016-03-31 17:25:20   3600       small              2008  manual     69   \n",
       "\n",
       "   Model  Kilometer  RegistrationMonth  FuelType       Brand NotRepaired  \\\n",
       "0   golf     150000                  0    petrol  volkswagen         NaN   \n",
       "1    NaN     125000                  5  gasoline        audi         yes   \n",
       "2  grand     125000                  8  gasoline        jeep         NaN   \n",
       "3   golf     150000                  6    petrol  volkswagen          no   \n",
       "4  fabia      90000                  7  gasoline       skoda          no   \n",
       "\n",
       "           DateCreated  NumberOfPictures  PostalCode             LastSeen  \n",
       "0  2016-03-24 00:00:00                 0       70435  2016-04-07 03:16:57  \n",
       "1  2016-03-24 00:00:00                 0       66954  2016-04-07 01:46:50  \n",
       "2  2016-03-14 00:00:00                 0       90480  2016-04-05 12:47:46  \n",
       "3  2016-03-17 00:00:00                 0       91074  2016-03-17 17:40:17  \n",
       "4  2016-03-31 00:00:00                 0       60437  2016-04-06 10:17:21  "
      ]
     },
     "execution_count": 2,
     "metadata": {},
     "output_type": "execute_result"
    }
   ],
   "source": [
    "df = pd.read_csv('/datasets/autos.csv')\n",
    "df.head()"
   ]
  },
  {
   "cell_type": "code",
   "execution_count": 3,
   "metadata": {
    "scrolled": false
   },
   "outputs": [
    {
     "name": "stdout",
     "output_type": "stream",
     "text": [
      "<class 'pandas.core.frame.DataFrame'>\n",
      "RangeIndex: 354369 entries, 0 to 354368\n",
      "Data columns (total 16 columns):\n",
      "DateCrawled          354369 non-null object\n",
      "Price                354369 non-null int64\n",
      "VehicleType          316879 non-null object\n",
      "RegistrationYear     354369 non-null int64\n",
      "Gearbox              334536 non-null object\n",
      "Power                354369 non-null int64\n",
      "Model                334664 non-null object\n",
      "Kilometer            354369 non-null int64\n",
      "RegistrationMonth    354369 non-null int64\n",
      "FuelType             321474 non-null object\n",
      "Brand                354369 non-null object\n",
      "NotRepaired          283215 non-null object\n",
      "DateCreated          354369 non-null object\n",
      "NumberOfPictures     354369 non-null int64\n",
      "PostalCode           354369 non-null int64\n",
      "LastSeen             354369 non-null object\n",
      "dtypes: int64(7), object(9)\n",
      "memory usage: 43.3+ MB\n"
     ]
    }
   ],
   "source": [
    "df.info()"
   ]
  },
  {
   "cell_type": "markdown",
   "metadata": {},
   "source": [
    "Проверим на дубликаты"
   ]
  },
  {
   "cell_type": "code",
   "execution_count": 4,
   "metadata": {
    "scrolled": true
   },
   "outputs": [
    {
     "data": {
      "text/plain": [
       "4"
      ]
     },
     "execution_count": 4,
     "metadata": {},
     "output_type": "execute_result"
    }
   ],
   "source": [
    "df.duplicated().sum()"
   ]
  },
  {
   "cell_type": "markdown",
   "metadata": {},
   "source": [
    "Теперь повторим с null'ами"
   ]
  },
  {
   "cell_type": "code",
   "execution_count": 5,
   "metadata": {
    "scrolled": true
   },
   "outputs": [
    {
     "data": {
      "text/plain": [
       "DateCrawled              0\n",
       "Price                    0\n",
       "VehicleType          37490\n",
       "RegistrationYear         0\n",
       "Gearbox              19833\n",
       "Power                    0\n",
       "Model                19705\n",
       "Kilometer                0\n",
       "RegistrationMonth        0\n",
       "FuelType             32895\n",
       "Brand                    0\n",
       "NotRepaired          71154\n",
       "DateCreated              0\n",
       "NumberOfPictures         0\n",
       "PostalCode               0\n",
       "LastSeen                 0\n",
       "dtype: int64"
      ]
     },
     "execution_count": 5,
     "metadata": {},
     "output_type": "execute_result"
    }
   ],
   "source": [
    "df.isna().sum()"
   ]
  },
  {
   "cell_type": "code",
   "execution_count": 6,
   "metadata": {
    "scrolled": false
   },
   "outputs": [
    {
     "data": {
      "text/html": [
       "<div>\n",
       "<style scoped>\n",
       "    .dataframe tbody tr th:only-of-type {\n",
       "        vertical-align: middle;\n",
       "    }\n",
       "\n",
       "    .dataframe tbody tr th {\n",
       "        vertical-align: top;\n",
       "    }\n",
       "\n",
       "    .dataframe thead th {\n",
       "        text-align: right;\n",
       "    }\n",
       "</style>\n",
       "<table border=\"1\" class=\"dataframe\">\n",
       "  <thead>\n",
       "    <tr style=\"text-align: right;\">\n",
       "      <th></th>\n",
       "      <th>Price</th>\n",
       "      <th>RegistrationYear</th>\n",
       "      <th>Power</th>\n",
       "      <th>Kilometer</th>\n",
       "      <th>RegistrationMonth</th>\n",
       "      <th>NumberOfPictures</th>\n",
       "      <th>PostalCode</th>\n",
       "    </tr>\n",
       "  </thead>\n",
       "  <tbody>\n",
       "    <tr>\n",
       "      <td>count</td>\n",
       "      <td>354369.000000</td>\n",
       "      <td>354369.000000</td>\n",
       "      <td>354369.000000</td>\n",
       "      <td>354369.000000</td>\n",
       "      <td>354369.000000</td>\n",
       "      <td>354369.0</td>\n",
       "      <td>354369.000000</td>\n",
       "    </tr>\n",
       "    <tr>\n",
       "      <td>mean</td>\n",
       "      <td>4416.656776</td>\n",
       "      <td>2004.234448</td>\n",
       "      <td>110.094337</td>\n",
       "      <td>128211.172535</td>\n",
       "      <td>5.714645</td>\n",
       "      <td>0.0</td>\n",
       "      <td>50508.689087</td>\n",
       "    </tr>\n",
       "    <tr>\n",
       "      <td>std</td>\n",
       "      <td>4514.158514</td>\n",
       "      <td>90.227958</td>\n",
       "      <td>189.850405</td>\n",
       "      <td>37905.341530</td>\n",
       "      <td>3.726421</td>\n",
       "      <td>0.0</td>\n",
       "      <td>25783.096248</td>\n",
       "    </tr>\n",
       "    <tr>\n",
       "      <td>min</td>\n",
       "      <td>0.000000</td>\n",
       "      <td>1000.000000</td>\n",
       "      <td>0.000000</td>\n",
       "      <td>5000.000000</td>\n",
       "      <td>0.000000</td>\n",
       "      <td>0.0</td>\n",
       "      <td>1067.000000</td>\n",
       "    </tr>\n",
       "    <tr>\n",
       "      <td>25%</td>\n",
       "      <td>1050.000000</td>\n",
       "      <td>1999.000000</td>\n",
       "      <td>69.000000</td>\n",
       "      <td>125000.000000</td>\n",
       "      <td>3.000000</td>\n",
       "      <td>0.0</td>\n",
       "      <td>30165.000000</td>\n",
       "    </tr>\n",
       "    <tr>\n",
       "      <td>50%</td>\n",
       "      <td>2700.000000</td>\n",
       "      <td>2003.000000</td>\n",
       "      <td>105.000000</td>\n",
       "      <td>150000.000000</td>\n",
       "      <td>6.000000</td>\n",
       "      <td>0.0</td>\n",
       "      <td>49413.000000</td>\n",
       "    </tr>\n",
       "    <tr>\n",
       "      <td>75%</td>\n",
       "      <td>6400.000000</td>\n",
       "      <td>2008.000000</td>\n",
       "      <td>143.000000</td>\n",
       "      <td>150000.000000</td>\n",
       "      <td>9.000000</td>\n",
       "      <td>0.0</td>\n",
       "      <td>71083.000000</td>\n",
       "    </tr>\n",
       "    <tr>\n",
       "      <td>max</td>\n",
       "      <td>20000.000000</td>\n",
       "      <td>9999.000000</td>\n",
       "      <td>20000.000000</td>\n",
       "      <td>150000.000000</td>\n",
       "      <td>12.000000</td>\n",
       "      <td>0.0</td>\n",
       "      <td>99998.000000</td>\n",
       "    </tr>\n",
       "  </tbody>\n",
       "</table>\n",
       "</div>"
      ],
      "text/plain": [
       "               Price  RegistrationYear          Power      Kilometer  \\\n",
       "count  354369.000000     354369.000000  354369.000000  354369.000000   \n",
       "mean     4416.656776       2004.234448     110.094337  128211.172535   \n",
       "std      4514.158514         90.227958     189.850405   37905.341530   \n",
       "min         0.000000       1000.000000       0.000000    5000.000000   \n",
       "25%      1050.000000       1999.000000      69.000000  125000.000000   \n",
       "50%      2700.000000       2003.000000     105.000000  150000.000000   \n",
       "75%      6400.000000       2008.000000     143.000000  150000.000000   \n",
       "max     20000.000000       9999.000000   20000.000000  150000.000000   \n",
       "\n",
       "       RegistrationMonth  NumberOfPictures     PostalCode  \n",
       "count      354369.000000          354369.0  354369.000000  \n",
       "mean            5.714645               0.0   50508.689087  \n",
       "std             3.726421               0.0   25783.096248  \n",
       "min             0.000000               0.0    1067.000000  \n",
       "25%             3.000000               0.0   30165.000000  \n",
       "50%             6.000000               0.0   49413.000000  \n",
       "75%             9.000000               0.0   71083.000000  \n",
       "max            12.000000               0.0   99998.000000  "
      ]
     },
     "execution_count": 6,
     "metadata": {},
     "output_type": "execute_result"
    }
   ],
   "source": [
    "df.describe()"
   ]
  },
  {
   "cell_type": "markdown",
   "metadata": {},
   "source": [
    "Изучим распределение столбцов"
   ]
  },
  {
   "cell_type": "code",
   "execution_count": 7,
   "metadata": {
    "scrolled": false
   },
   "outputs": [
    {
     "data": {
      "text/plain": [
       "array(['2016-03-24 11:52:17', '2016-03-24 10:58:45',\n",
       "       '2016-03-14 12:52:21', ..., '2016-03-21 09:50:58',\n",
       "       '2016-03-14 17:48:27', '2016-03-19 18:57:12'], dtype=object)"
      ]
     },
     "execution_count": 7,
     "metadata": {},
     "output_type": "execute_result"
    }
   ],
   "source": [
    "df['DateCrawled'].unique()"
   ]
  },
  {
   "cell_type": "code",
   "execution_count": 8,
   "metadata": {},
   "outputs": [
    {
     "data": {
      "text/plain": [
       "90713     2016-04-07 14:36:58\n",
       "339649    2016-04-07 14:36:56\n",
       "301030    2016-04-07 14:36:55\n",
       "53739     2016-04-07 14:36:54\n",
       "204218    2016-04-07 14:36:53\n",
       "                 ...         \n",
       "324763    2016-03-05 14:06:24\n",
       "99885     2016-03-05 14:06:24\n",
       "176823    2016-03-05 14:06:24\n",
       "220583    2016-03-05 14:06:23\n",
       "329497    2016-03-05 14:06:22\n",
       "Name: DateCrawled, Length: 354369, dtype: object"
      ]
     },
     "execution_count": 8,
     "metadata": {},
     "output_type": "execute_result"
    }
   ],
   "source": [
    "df['DateCrawled'].sort_values(ascending=False)"
   ]
  },
  {
   "cell_type": "markdown",
   "metadata": {},
   "source": [
    "Визуально без аномалий"
   ]
  },
  {
   "cell_type": "code",
   "execution_count": 9,
   "metadata": {
    "scrolled": true
   },
   "outputs": [
    {
     "data": {
      "image/png": "[encoded data removed]",
      "text/plain": [
       "<Figure size 432x288 with 1 Axes>"
      ]
     },
     "metadata": {
      "needs_background": "light"
     },
     "output_type": "display_data"
    }
   ],
   "source": [
    "df['Price'].hist()\n",
    "plt.title('Распределение цены автомобилей')\n",
    "plt.xlabel('Цена')\n",
    "plt.ylabel('Кол-во')\n",
    "plt.show()"
   ]
  },
  {
   "cell_type": "markdown",
   "metadata": {},
   "source": [
    "Подозрительный пик в районе нуля"
   ]
  },
  {
   "cell_type": "code",
   "execution_count": 10,
   "metadata": {
    "scrolled": false
   },
   "outputs": [
    {
     "data": {
      "text/plain": [
       "array([nan, 'coupe', 'suv', 'small', 'sedan', 'convertible', 'bus',\n",
       "       'wagon', 'other'], dtype=object)"
      ]
     },
     "execution_count": 10,
     "metadata": {},
     "output_type": "execute_result"
    }
   ],
   "source": [
    "df['VehicleType'].unique()"
   ]
  },
  {
   "cell_type": "markdown",
   "metadata": {},
   "source": [
    "Никаких странностей"
   ]
  },
  {
   "cell_type": "code",
   "execution_count": 11,
   "metadata": {
    "scrolled": true
   },
   "outputs": [
    {
     "data": {
      "text/plain": [
       "224832    9999\n",
       "326725    9999\n",
       "149151    9999\n",
       "217111    9999\n",
       "167937    9999\n",
       "          ... \n",
       "164397    1000\n",
       "55605     1000\n",
       "143621    1000\n",
       "91869     1000\n",
       "244092    1000\n",
       "Name: RegistrationYear, Length: 354369, dtype: int64"
      ]
     },
     "execution_count": 11,
     "metadata": {},
     "output_type": "execute_result"
    }
   ],
   "source": [
    "df['RegistrationYear'].sort_values(ascending=False)"
   ]
  },
  {
   "cell_type": "code",
   "execution_count": 12,
   "metadata": {},
   "outputs": [
    {
     "data": {
      "text/plain": [
       "array([1993, 2011, 2004, 2001, 2008, 1995, 1980, 2014, 1998, 2005, 1910,\n",
       "       2016, 2007, 2009, 2002, 2018, 1997, 1990, 2017, 1981, 2003, 1994,\n",
       "       1991, 1984, 2006, 1999, 2012, 2010, 2000, 1992, 2013, 1996, 1985,\n",
       "       1989, 2015, 1982, 1976, 1983, 1973, 1111, 1969, 1971, 1987, 1986,\n",
       "       1988, 1970, 1965, 1945, 1925, 1974, 1979, 1955, 1978, 1972, 1968,\n",
       "       1977, 1961, 1960, 1966, 1975, 1963, 1964, 5000, 1954, 1958, 1967,\n",
       "       1959, 9999, 1956, 3200, 1000, 1941, 8888, 1500, 2200, 4100, 1962,\n",
       "       1929, 1957, 1940, 3000, 2066, 1949, 2019, 1937, 1951, 1800, 1953,\n",
       "       1234, 8000, 5300, 9000, 2900, 6000, 5900, 5911, 1933, 1400, 1950,\n",
       "       4000, 1948, 1952, 1200, 8500, 1932, 1255, 3700, 3800, 4800, 1942,\n",
       "       7000, 1935, 1936, 6500, 1923, 2290, 2500, 1930, 1001, 9450, 1944,\n",
       "       1943, 1934, 1938, 1688, 2800, 1253, 1928, 1919, 5555, 5600, 1600,\n",
       "       2222, 1039, 9996, 1300, 8455, 1931, 1915, 4500, 1920, 1602, 7800,\n",
       "       9229, 1947, 1927, 7100, 8200, 1946, 7500, 3500])"
      ]
     },
     "execution_count": 12,
     "metadata": {},
     "output_type": "execute_result"
    }
   ],
   "source": [
    "df['RegistrationYear'].unique()"
   ]
  },
  {
   "cell_type": "code",
   "execution_count": 13,
   "metadata": {
    "scrolled": true
   },
   "outputs": [
    {
     "data": {
      "image/png": "[encoded data removed]",
      "text/plain": [
       "<Figure size 432x288 with 1 Axes>"
      ]
     },
     "metadata": {
      "needs_background": "light"
     },
     "output_type": "display_data"
    }
   ],
   "source": [
    "df['RegistrationYear'].hist(bins=10)\n",
    "plt.title('Распределение года регистрации')\n",
    "plt.xlabel('Год')\n",
    "plt.ylabel('Кол-во')\n",
    "plt.show()"
   ]
  },
  {
   "cell_type": "code",
   "execution_count": 14,
   "metadata": {},
   "outputs": [
    {
     "data": {
      "text/plain": [
       "Text(0.5, 1.0, 'Диаграмма выбросов года регистрации')"
      ]
     },
     "execution_count": 14,
     "metadata": {},
     "output_type": "execute_result"
    },
    {
     "data": {
      "image/png": "[encoded data removed]",
      "text/plain": [
       "<Figure size 432x288 with 1 Axes>"
      ]
     },
     "metadata": {
      "needs_background": "light"
     },
     "output_type": "display_data"
    }
   ],
   "source": [
    "sns.boxplot(x=df['RegistrationYear'], linewidth=2.5).set_title('Диаграмма выбросов года регистрации')"
   ]
  },
  {
   "cell_type": "markdown",
   "metadata": {},
   "source": [
    "Присутствуют выбросы в обе стороны, разберемся с ними позже"
   ]
  },
  {
   "cell_type": "code",
   "execution_count": 15,
   "metadata": {},
   "outputs": [
    {
     "data": {
      "text/plain": [
       "array(['manual', 'auto', nan], dtype=object)"
      ]
     },
     "execution_count": 15,
     "metadata": {},
     "output_type": "execute_result"
    }
   ],
   "source": [
    "df['Gearbox'].unique()"
   ]
  },
  {
   "cell_type": "code",
   "execution_count": 16,
   "metadata": {},
   "outputs": [
    {
     "data": {
      "text/plain": [
       "manual    268251\n",
       "auto       66285\n",
       "Name: Gearbox, dtype: int64"
      ]
     },
     "execution_count": 16,
     "metadata": {},
     "output_type": "execute_result"
    }
   ],
   "source": [
    "df['Gearbox'].value_counts()"
   ]
  },
  {
   "cell_type": "markdown",
   "metadata": {},
   "source": [
    "Без нареканий"
   ]
  },
  {
   "cell_type": "code",
   "execution_count": 17,
   "metadata": {
    "scrolled": true
   },
   "outputs": [
    {
     "data": {
      "image/png": "[encoded data removed]",
      "text/plain": [
       "<Figure size 432x288 with 1 Axes>"
      ]
     },
     "metadata": {
      "needs_background": "light"
     },
     "output_type": "display_data"
    }
   ],
   "source": [
    "df['Power'].hist(bins=1)\n",
    "plt.title('Распределение мощности автомобилей')\n",
    "plt.xlabel('Мощность, л.с.')\n",
    "plt.ylabel('Кол-во')\n",
    "plt.show()"
   ]
  },
  {
   "cell_type": "code",
   "execution_count": 18,
   "metadata": {},
   "outputs": [
    {
     "data": {
      "text/plain": [
       "array([    0,   190,   163,    75,    69,   102,   109,    50,   125,\n",
       "         101,   105,   140,   115,   131,    60,   136,   160,   231,\n",
       "          90,   118,   193,    99,   113,   218,   122,   129,    70,\n",
       "         306,    95,    61,   177,    80,   170,    55,   143,    64,\n",
       "         286,   232,   150,   156,    82,   155,    54,   185,    87,\n",
       "         180,    86,    84,   224,   235,   200,   178,   265,    77,\n",
       "         110,   144,   120,   116,   184,   126,   204,    88,   194,\n",
       "         305,   197,   179,   250,    45,   313,    41,   165,    98,\n",
       "         130,   114,   211,    56,   201,   213,    58,   107,    83,\n",
       "         174,   100,   220,    85,    73,   192,    68,    66,   299,\n",
       "          74,    52,   147,    65,   310,    71,    97,   239,   203,\n",
       "           5,   300,   103,   258,   320,    63,    81,   148,    44,\n",
       "         145,   230,   280,   260,   104,   188,   333,   186,   117,\n",
       "         141,    59,   132,   234,   158,    39,    92,    51,   135,\n",
       "          53,   209,    43,   146,    67,   106,   166,   276,   344,\n",
       "          72,   249,   237,   245,   111,   326,   279,    23,   138,\n",
       "         175,    96,   226,    26,    37,   301,   334,   128,   133,\n",
       "         124,    33,   219,   241,   167,    94,   182,   196,   238,\n",
       "        1398,   228,   112,    48,   272,   139,  1799,    40,   240,\n",
       "          79,   256,   360,   243,   375,   252,   396,   340,   108,\n",
       "         121,   345,   187,   289,   222,   198,   284,   450,   233,\n",
       "         387,   152,   347,   172,    57,   137,   212,   476,   314,\n",
       "          30,     7,    47,   173,   290,   207,   205,   171,   750,\n",
       "          78,    91,    89,   349,   325,    76,   151,   350,   953,\n",
       "          93,   142,   500,   343,   199,   119,   164,    16,   264,\n",
       "         367,   208,   210,    46,   435,  1001,   225,   127,   176,\n",
       "         161,   603,   307,   354,    35,   206,   771,   355,   273,\n",
       "         223,   255,   123,   154,   149,  7515,  1400,   268,   620,\n",
       "         169,   400,   275,    34,     2,   242,  1779,   285,   162,\n",
       "         328,  1753,   329,   134,   420,   247,   168, 10317,   215,\n",
       "          18,   330,   283,    62,    10,   214,   183,   254,    15,\n",
       "         321,   322,   315,   952,   600,   181,   426,   599,   379,\n",
       "         999,    22,   157,    42,   195,   553,     4,   309,   507,\n",
       "         381,   271,   440,   189,   401,  1111,  2729,    21,   236,\n",
       "        1240,  1704,   521,     1,  1900,   270,    24,   159,   292,\n",
       "         808,   515,  1200,   303,    29,    38,  1993,    14,   216,\n",
       "         610,   504,    49,   267,   331,   363,   261,   385,  1011,\n",
       "         253,   696, 10520,   376,   227,   311,    27,   217,    20,\n",
       "        1999,    11,  1056,    25,   394,    12,   298,   296,  1659,\n",
       "         294,   551,  6920,   246,    17,  1800,  1625,   368,   390,\n",
       "         221,  1367,   259,   606,   327,  2017,  1597,   266,   374,\n",
       "         392,     9,   405,    13,   262,   601,   430,   295,     8,\n",
       "         411,   900,   541,  7512,   382, 10218,  7544,  1102,   287,\n",
       "          19,   751,   297,  1090,   457,   282,   602,   388,     6,\n",
       "        1000,  5411,   335,  1360,   202,  3750,   805,  1062,  1024,\n",
       "       11530,   364,  1796,  5000,   269,   460,  1002,   288,  1780,\n",
       "       12012, 17932,   316,  2005,  1399,   191,   278,  1300,   380,\n",
       "         257,   449,  1256,   153,  1653,   520,   560,   281, 12510,\n",
       "           3,  1500,   386,    32,  1202,  2016,  1436,  1405,   671,\n",
       "         274,  1288,  1055, 10912, 15016,  6226,  1115,   277,  1105,\n",
       "         341,  1223,  2340,  8404,  1968,   338,   445,  1920,   370,\n",
       "         517,  4400, 10710, 10522,  9010,   431,  1164, 11509,   371,\n",
       "        1501,   428, 11635,    36,   304,   348,  1703,  1910,  1995,\n",
       "         579, 10000,   580,   408,    31,  1005,   358,  1403,   489,\n",
       "        5575, 19211,   585,   960,   365,   353,   490,   352,  1801,\n",
       "         346,   550,  3199,   800,  7508,  1312,   357,  1937,   950,\n",
       "        4700,  1600,  3454, 19208,   251,   850,   337,   700,  8011,\n",
       "        2331,  2789,   487,   519,  2461,  6006,  3500,  5815,  6018,\n",
       "        1781,  1503,   612,  1596,   229,  1506,  5809, 15020,  5867,\n",
       "        2172,  1598, 17410,  1363,   584,  1054,   851,  1339,   318,\n",
       "         510,   525,  1700,    28,  1151,   685,  6011,   317,   703,\n",
       "        1771, 15001,   514,   362,   332,   324,  6045,   530,   425,\n",
       "         308,  6010,   475,   903,   640,  2000,   248,   651,  2799,\n",
       "       17011,   505,  1103,  1521,   351, 16051,   398,  9000,  1998,\n",
       "       10311,   409,  1230, 17019, 12684,  8259,  1895,   901,  1317,\n",
       "         871,   909,  2201,  1595,   776, 17700, 11011,  1199,   459,\n",
       "        1162,  1120, 15033,  1896,   339,   361,   574,  6512,   454,\n",
       "         650, 13616,   604,   607, 16312,  1082,   336, 20000,   416,\n",
       "         678,  6012,  1401,  1021,  1870, 13636,  1250,  9710,   323,\n",
       "        1158,  2009,   902,  6062,  1275,   572,   244,   399,  1016,\n",
       "         743,  1221,  2402, 16011,  1362,   544,   645,   907,   702,\n",
       "       12512,  1986,  1003,  1432,  9013,  9011,   442,  1017,  1394,\n",
       "       15017, 10910,  1992,   540,  2018, 11025,  1433,  1701,  2792,\n",
       "        1502,  1239,  1390, 14009,  1160,  1351, 11111,  1783,  9007,\n",
       "         923,  1149,   754,  1988,   402,  2004,  5420,  1793,  1324,\n",
       "         356,  7511,  1299,   293, 19312,  1079,  1689,   998,  1100,\n",
       "        9012,  1933,   508, 16311,   682,  1252,  1922,  7529,   732,\n",
       "        2389,  2200,  1707,  1416,  8500,  1012,   485,  3000, 10110,\n",
       "         421,  4507,  1631,  7518,   377,  1004,  2007,  2598,  1548,\n",
       "        1241])"
      ]
     },
     "execution_count": 18,
     "metadata": {},
     "output_type": "execute_result"
    }
   ],
   "source": [
    "df['Power'].unique()"
   ]
  },
  {
   "cell_type": "code",
   "execution_count": 19,
   "metadata": {
    "scrolled": true
   },
   "outputs": [
    {
     "data": {
      "text/plain": [
       "Text(0.5, 1.0, 'Диаграмма выбросов мощности автомобиля')"
      ]
     },
     "execution_count": 19,
     "metadata": {},
     "output_type": "execute_result"
    },
    {
     "data": {
      "image/png": "[encoded data removed]",
      "text/plain": [
       "<Figure size 432x288 with 1 Axes>"
      ]
     },
     "metadata": {
      "needs_background": "light"
     },
     "output_type": "display_data"
    }
   ],
   "source": [
    "sns.boxplot(x=df['Power'], linewidth=2.5).set_title('Диаграмма выбросов мощности автомобиля')"
   ]
  },
  {
   "cell_type": "markdown",
   "metadata": {},
   "source": [
    "Силовые способности ряда автомобилей поражают"
   ]
  },
  {
   "cell_type": "code",
   "execution_count": 20,
   "metadata": {},
   "outputs": [
    {
     "data": {
      "text/plain": [
       "array(['golf', nan, 'grand', 'fabia', '3er', '2_reihe', 'other', 'c_max',\n",
       "       '3_reihe', 'passat', 'navara', 'ka', 'polo', 'twingo', 'a_klasse',\n",
       "       'scirocco', '5er', 'meriva', 'arosa', 'c4', 'civic', 'transporter',\n",
       "       'punto', 'e_klasse', 'clio', 'kadett', 'kangoo', 'corsa', 'one',\n",
       "       'fortwo', '1er', 'b_klasse', 'signum', 'astra', 'a8', 'jetta',\n",
       "       'fiesta', 'c_klasse', 'micra', 'vito', 'sprinter', '156', 'escort',\n",
       "       'forester', 'xc_reihe', 'scenic', 'a4', 'a1', 'insignia', 'combo',\n",
       "       'focus', 'tt', 'a6', 'jazz', 'omega', 'slk', '7er', '80', '147',\n",
       "       '100', 'z_reihe', 'sportage', 'sorento', 'v40', 'ibiza', 'mustang',\n",
       "       'eos', 'touran', 'getz', 'a3', 'almera', 'megane', 'lupo', 'r19',\n",
       "       'zafira', 'caddy', 'mondeo', 'cordoba', 'colt', 'impreza',\n",
       "       'vectra', 'berlingo', 'tiguan', 'i_reihe', 'espace', 'sharan',\n",
       "       '6_reihe', 'panda', 'up', 'seicento', 'ceed', '5_reihe', 'yeti',\n",
       "       'octavia', 'mii', 'rx_reihe', '6er', 'modus', 'fox', 'matiz',\n",
       "       'beetle', 'c1', 'rio', 'touareg', 'logan', 'spider', 'cuore',\n",
       "       's_max', 'a2', 'galaxy', 'c3', 'viano', 's_klasse', '1_reihe',\n",
       "       'avensis', 'roomster', 'sl', 'kaefer', 'santa', 'cooper', 'leon',\n",
       "       '4_reihe', 'a5', '500', 'laguna', 'ptcruiser', 'clk', 'primera',\n",
       "       'x_reihe', 'exeo', '159', 'transit', 'juke', 'qashqai', 'carisma',\n",
       "       'accord', 'corolla', 'lanos', 'phaeton', 'verso', 'swift', 'rav',\n",
       "       'picanto', 'boxster', 'kalos', 'superb', 'stilo', 'alhambra',\n",
       "       'mx_reihe', 'roadster', 'ypsilon', 'cayenne', 'galant', 'justy',\n",
       "       '90', 'sirion', 'crossfire', 'agila', 'duster', 'cr_reihe', 'v50',\n",
       "       'c_reihe', 'v_klasse', 'm_klasse', 'yaris', 'c5', 'aygo', 'cc',\n",
       "       'carnival', 'fusion', '911', 'bora', 'forfour', 'm_reihe', 'cl',\n",
       "       'tigra', '300c', 'spark', 'v70', 'kuga', 'x_type', 'ducato',\n",
       "       's_type', 'x_trail', 'toledo', 'altea', 'voyager', 'calibra',\n",
       "       'bravo', 'antara', 'tucson', 'citigo', 'jimny', 'wrangler',\n",
       "       'lybra', 'q7', 'lancer', 'captiva', 'c2', 'discovery',\n",
       "       'freelander', 'sandero', 'note', '900', 'cherokee', 'clubman',\n",
       "       'samara', 'defender', '601', 'cx_reihe', 'legacy', 'pajero',\n",
       "       'auris', 'niva', 's60', 'nubira', 'vivaro', 'g_klasse', 'lodgy',\n",
       "       '850', 'range_rover', 'q3', 'serie_2', 'glk', 'charade', 'croma',\n",
       "       'outlander', 'doblo', 'musa', 'move', '9000', 'v60', '145', 'aveo',\n",
       "       '200', 'b_max', 'range_rover_sport', 'terios', 'rangerover', 'q5',\n",
       "       'range_rover_evoque', 'materia', 'delta', 'gl', 'kalina', 'amarok',\n",
       "       'elefantino', 'i3', 'kappa', 'serie_3', 'serie_1'], dtype=object)"
      ]
     },
     "execution_count": 20,
     "metadata": {},
     "output_type": "execute_result"
    }
   ],
   "source": [
    "df['Model'].unique()"
   ]
  },
  {
   "cell_type": "markdown",
   "metadata": {},
   "source": [
    "Модели как модели"
   ]
  },
  {
   "cell_type": "code",
   "execution_count": 21,
   "metadata": {},
   "outputs": [
    {
     "data": {
      "text/plain": [
       "array([150000, 125000,  90000,  40000,  30000,  70000,   5000, 100000,\n",
       "        60000,  20000,  80000,  50000,  10000])"
      ]
     },
     "execution_count": 21,
     "metadata": {},
     "output_type": "execute_result"
    }
   ],
   "source": [
    "df['Kilometer'].unique()"
   ]
  },
  {
   "cell_type": "code",
   "execution_count": 22,
   "metadata": {},
   "outputs": [
    {
     "data": {
      "image/png": "[encoded data removed]",
      "text/plain": [
       "<Figure size 432x288 with 1 Axes>"
      ]
     },
     "metadata": {
      "needs_background": "light"
     },
     "output_type": "display_data"
    }
   ],
   "source": [
    "df['Kilometer'].hist()\n",
    "plt.title('Распределение пробега автомобилей')\n",
    "plt.xlabel('Пробег')\n",
    "plt.ylabel('Кол-во')\n",
    "plt.show()"
   ]
  },
  {
   "cell_type": "markdown",
   "metadata": {},
   "source": [
    "Визуально правдаподобно"
   ]
  },
  {
   "cell_type": "code",
   "execution_count": 23,
   "metadata": {},
   "outputs": [
    {
     "data": {
      "text/plain": [
       "array([ 0,  5,  8,  6,  7, 10, 12, 11,  2,  3,  1,  4,  9])"
      ]
     },
     "execution_count": 23,
     "metadata": {},
     "output_type": "execute_result"
    }
   ],
   "source": [
    "df['RegistrationMonth'].unique()"
   ]
  },
  {
   "cell_type": "markdown",
   "metadata": {},
   "source": [
    "Непонятен нулевой месяц, пока будем считать что так обозначей пропуск"
   ]
  },
  {
   "cell_type": "code",
   "execution_count": 24,
   "metadata": {},
   "outputs": [
    {
     "data": {
      "text/plain": [
       "array(['petrol', 'gasoline', nan, 'lpg', 'other', 'hybrid', 'cng',\n",
       "       'electric'], dtype=object)"
      ]
     },
     "execution_count": 24,
     "metadata": {},
     "output_type": "execute_result"
    }
   ],
   "source": [
    "df['FuelType'].unique()"
   ]
  },
  {
   "cell_type": "markdown",
   "metadata": {},
   "source": [
    "Адекватно"
   ]
  },
  {
   "cell_type": "code",
   "execution_count": 25,
   "metadata": {},
   "outputs": [
    {
     "data": {
      "text/plain": [
       "array(['volkswagen', 'audi', 'jeep', 'skoda', 'bmw', 'peugeot', 'ford',\n",
       "       'mazda', 'nissan', 'renault', 'mercedes_benz', 'opel', 'seat',\n",
       "       'citroen', 'honda', 'fiat', 'mini', 'smart', 'hyundai',\n",
       "       'sonstige_autos', 'alfa_romeo', 'subaru', 'volvo', 'mitsubishi',\n",
       "       'kia', 'suzuki', 'lancia', 'toyota', 'chevrolet', 'dacia',\n",
       "       'daihatsu', 'trabant', 'saab', 'chrysler', 'jaguar', 'daewoo',\n",
       "       'porsche', 'rover', 'land_rover', 'lada'], dtype=object)"
      ]
     },
     "execution_count": 25,
     "metadata": {},
     "output_type": "execute_result"
    }
   ],
   "source": [
    "df['Brand'].unique()"
   ]
  },
  {
   "cell_type": "markdown",
   "metadata": {},
   "source": [
    "Аналогично"
   ]
  },
  {
   "cell_type": "code",
   "execution_count": 26,
   "metadata": {},
   "outputs": [
    {
     "data": {
      "text/plain": [
       "count     283215\n",
       "unique         2\n",
       "top           no\n",
       "freq      247161\n",
       "Name: NotRepaired, dtype: object"
      ]
     },
     "execution_count": 26,
     "metadata": {},
     "output_type": "execute_result"
    }
   ],
   "source": [
    "df['NotRepaired'].describe()"
   ]
  },
  {
   "cell_type": "code",
   "execution_count": 27,
   "metadata": {},
   "outputs": [
    {
     "data": {
      "text/plain": [
       "array([nan, 'yes', 'no'], dtype=object)"
      ]
     },
     "execution_count": 27,
     "metadata": {},
     "output_type": "execute_result"
    }
   ],
   "source": [
    "df['NotRepaired'].unique()"
   ]
  },
  {
   "cell_type": "markdown",
   "metadata": {},
   "source": [
    "В порядке"
   ]
  },
  {
   "cell_type": "code",
   "execution_count": 28,
   "metadata": {
    "scrolled": true
   },
   "outputs": [
    {
     "data": {
      "text/plain": [
       "305430    2016-04-07 00:00:00\n",
       "309336    2016-04-07 00:00:00\n",
       "206303    2016-04-07 00:00:00\n",
       "176987    2016-04-07 00:00:00\n",
       "134418    2016-04-07 00:00:00\n",
       "                 ...         \n",
       "175103    2015-08-10 00:00:00\n",
       "86601     2015-08-07 00:00:00\n",
       "342275    2015-06-18 00:00:00\n",
       "4001      2015-03-20 00:00:00\n",
       "61207     2014-03-10 00:00:00\n",
       "Name: DateCreated, Length: 354369, dtype: object"
      ]
     },
     "execution_count": 28,
     "metadata": {},
     "output_type": "execute_result"
    }
   ],
   "source": [
    "df['DateCreated'].sort_values(ascending=False)"
   ]
  },
  {
   "cell_type": "code",
   "execution_count": 29,
   "metadata": {
    "scrolled": false
   },
   "outputs": [
    {
     "data": {
      "text/plain": [
       "array(['2016-03-24 00:00:00', '2016-03-14 00:00:00',\n",
       "       '2016-03-17 00:00:00', '2016-03-31 00:00:00',\n",
       "       '2016-04-04 00:00:00', '2016-04-01 00:00:00',\n",
       "       '2016-03-21 00:00:00', '2016-03-26 00:00:00',\n",
       "       '2016-04-07 00:00:00', '2016-03-15 00:00:00',\n",
       "       '2016-03-11 00:00:00', '2016-03-20 00:00:00',\n",
       "       '2016-03-23 00:00:00', '2016-03-27 00:00:00',\n",
       "       '2016-03-12 00:00:00', '2016-03-13 00:00:00',\n",
       "       '2016-03-18 00:00:00', '2016-03-10 00:00:00',\n",
       "       '2016-03-07 00:00:00', '2016-03-09 00:00:00',\n",
       "       '2016-03-08 00:00:00', '2016-04-03 00:00:00',\n",
       "       '2016-03-29 00:00:00', '2016-03-25 00:00:00',\n",
       "       '2016-03-28 00:00:00', '2016-03-30 00:00:00',\n",
       "       '2016-03-22 00:00:00', '2016-02-09 00:00:00',\n",
       "       '2016-03-05 00:00:00', '2016-04-02 00:00:00',\n",
       "       '2016-03-16 00:00:00', '2016-03-19 00:00:00',\n",
       "       '2016-04-05 00:00:00', '2016-03-06 00:00:00',\n",
       "       '2016-02-12 00:00:00', '2016-03-03 00:00:00',\n",
       "       '2016-03-01 00:00:00', '2016-03-04 00:00:00',\n",
       "       '2016-04-06 00:00:00', '2016-02-15 00:00:00',\n",
       "       '2016-02-24 00:00:00', '2016-02-27 00:00:00',\n",
       "       '2015-03-20 00:00:00', '2016-02-28 00:00:00',\n",
       "       '2016-02-17 00:00:00', '2016-01-27 00:00:00',\n",
       "       '2016-02-20 00:00:00', '2016-02-29 00:00:00',\n",
       "       '2016-02-10 00:00:00', '2016-02-23 00:00:00',\n",
       "       '2016-02-21 00:00:00', '2015-11-02 00:00:00',\n",
       "       '2016-02-19 00:00:00', '2016-02-26 00:00:00',\n",
       "       '2016-02-11 00:00:00', '2016-01-10 00:00:00',\n",
       "       '2016-02-06 00:00:00', '2016-02-18 00:00:00',\n",
       "       '2016-01-29 00:00:00', '2016-03-02 00:00:00',\n",
       "       '2015-12-06 00:00:00', '2016-01-24 00:00:00',\n",
       "       '2016-01-30 00:00:00', '2016-02-02 00:00:00',\n",
       "       '2016-02-16 00:00:00', '2016-02-13 00:00:00',\n",
       "       '2016-02-05 00:00:00', '2016-02-22 00:00:00',\n",
       "       '2015-11-17 00:00:00', '2014-03-10 00:00:00',\n",
       "       '2016-02-07 00:00:00', '2016-01-23 00:00:00',\n",
       "       '2016-02-25 00:00:00', '2016-02-14 00:00:00',\n",
       "       '2016-01-02 00:00:00', '2015-09-04 00:00:00',\n",
       "       '2015-11-12 00:00:00', '2015-12-27 00:00:00',\n",
       "       '2015-11-24 00:00:00', '2016-01-20 00:00:00',\n",
       "       '2016-02-03 00:00:00', '2015-12-05 00:00:00',\n",
       "       '2015-08-07 00:00:00', '2016-01-28 00:00:00',\n",
       "       '2016-01-31 00:00:00', '2016-02-08 00:00:00',\n",
       "       '2016-01-07 00:00:00', '2016-01-22 00:00:00',\n",
       "       '2016-01-18 00:00:00', '2016-01-08 00:00:00',\n",
       "       '2015-11-23 00:00:00', '2016-01-13 00:00:00',\n",
       "       '2016-01-17 00:00:00', '2016-01-15 00:00:00',\n",
       "       '2015-11-08 00:00:00', '2016-01-26 00:00:00',\n",
       "       '2016-02-04 00:00:00', '2016-01-25 00:00:00',\n",
       "       '2016-01-16 00:00:00', '2015-08-10 00:00:00',\n",
       "       '2016-01-03 00:00:00', '2016-01-19 00:00:00',\n",
       "       '2015-12-30 00:00:00', '2016-02-01 00:00:00',\n",
       "       '2015-12-17 00:00:00', '2015-11-10 00:00:00',\n",
       "       '2016-01-06 00:00:00', '2015-09-09 00:00:00',\n",
       "       '2015-06-18 00:00:00'], dtype=object)"
      ]
     },
     "execution_count": 29,
     "metadata": {},
     "output_type": "execute_result"
    }
   ],
   "source": [
    "df['DateCreated'].unique()"
   ]
  },
  {
   "cell_type": "markdown",
   "metadata": {},
   "source": [
    "Визуально логично"
   ]
  },
  {
   "cell_type": "code",
   "execution_count": 30,
   "metadata": {},
   "outputs": [
    {
     "data": {
      "text/plain": [
       "count    354369.0\n",
       "mean          0.0\n",
       "std           0.0\n",
       "min           0.0\n",
       "25%           0.0\n",
       "50%           0.0\n",
       "75%           0.0\n",
       "max           0.0\n",
       "Name: NumberOfPictures, dtype: float64"
      ]
     },
     "execution_count": 30,
     "metadata": {},
     "output_type": "execute_result"
    }
   ],
   "source": [
    "df['NumberOfPictures'].describe()"
   ]
  },
  {
   "cell_type": "markdown",
   "metadata": {},
   "source": [
    "Пустовато"
   ]
  },
  {
   "cell_type": "code",
   "execution_count": 31,
   "metadata": {},
   "outputs": [
    {
     "data": {
      "text/plain": [
       "array([70435, 66954, 90480, ..., 38528, 38325, 31096])"
      ]
     },
     "execution_count": 31,
     "metadata": {},
     "output_type": "execute_result"
    }
   ],
   "source": [
    "df['PostalCode'].unique()"
   ]
  },
  {
   "cell_type": "markdown",
   "metadata": {},
   "source": [
    "Адеватно"
   ]
  },
  {
   "cell_type": "code",
   "execution_count": 32,
   "metadata": {
    "scrolled": true
   },
   "outputs": [
    {
     "data": {
      "text/plain": [
       "327303    2016-04-07 14:58:51\n",
       "215705    2016-04-07 14:58:50\n",
       "116344    2016-04-07 14:58:50\n",
       "59506     2016-04-07 14:58:50\n",
       "54852     2016-04-07 14:58:50\n",
       "                 ...         \n",
       "169065    2016-03-05 14:25:59\n",
       "285695    2016-03-05 14:18:30\n",
       "130462    2016-03-05 14:15:39\n",
       "262341    2016-03-05 14:15:16\n",
       "296785    2016-03-05 14:15:08\n",
       "Name: LastSeen, Length: 354369, dtype: object"
      ]
     },
     "execution_count": 32,
     "metadata": {},
     "output_type": "execute_result"
    }
   ],
   "source": [
    "df['LastSeen'].sort_values(ascending=False)"
   ]
  },
  {
   "cell_type": "markdown",
   "metadata": {},
   "source": [
    "Исходя из первичного анализа значений признаков, считаю целесообразным избавить от признаков: *RegistrationMonth, PostalCode, NumberOfPictures*, т.к. вряд ли они как-либо способный повлиять на качество модели"
   ]
  },
  {
   "cell_type": "code",
   "execution_count": 33,
   "metadata": {},
   "outputs": [],
   "source": [
    "df = df.drop(['RegistrationMonth', 'PostalCode', 'NumberOfPictures'], axis=1)"
   ]
  },
  {
   "cell_type": "code",
   "execution_count": 34,
   "metadata": {},
   "outputs": [
    {
     "data": {
      "text/html": [
       "<div>\n",
       "<style scoped>\n",
       "    .dataframe tbody tr th:only-of-type {\n",
       "        vertical-align: middle;\n",
       "    }\n",
       "\n",
       "    .dataframe tbody tr th {\n",
       "        vertical-align: top;\n",
       "    }\n",
       "\n",
       "    .dataframe thead th {\n",
       "        text-align: right;\n",
       "    }\n",
       "</style>\n",
       "<table border=\"1\" class=\"dataframe\">\n",
       "  <thead>\n",
       "    <tr style=\"text-align: right;\">\n",
       "      <th></th>\n",
       "      <th>DateCrawled</th>\n",
       "      <th>Price</th>\n",
       "      <th>VehicleType</th>\n",
       "      <th>RegistrationYear</th>\n",
       "      <th>Gearbox</th>\n",
       "      <th>Power</th>\n",
       "      <th>Model</th>\n",
       "      <th>Kilometer</th>\n",
       "      <th>FuelType</th>\n",
       "      <th>Brand</th>\n",
       "      <th>NotRepaired</th>\n",
       "      <th>DateCreated</th>\n",
       "      <th>LastSeen</th>\n",
       "    </tr>\n",
       "  </thead>\n",
       "  <tbody>\n",
       "    <tr>\n",
       "      <td>0</td>\n",
       "      <td>2016-03-24 11:52:17</td>\n",
       "      <td>480</td>\n",
       "      <td>NaN</td>\n",
       "      <td>1993</td>\n",
       "      <td>manual</td>\n",
       "      <td>0</td>\n",
       "      <td>golf</td>\n",
       "      <td>150000</td>\n",
       "      <td>petrol</td>\n",
       "      <td>volkswagen</td>\n",
       "      <td>NaN</td>\n",
       "      <td>2016-03-24 00:00:00</td>\n",
       "      <td>2016-04-07 03:16:57</td>\n",
       "    </tr>\n",
       "    <tr>\n",
       "      <td>1</td>\n",
       "      <td>2016-03-24 10:58:45</td>\n",
       "      <td>18300</td>\n",
       "      <td>coupe</td>\n",
       "      <td>2011</td>\n",
       "      <td>manual</td>\n",
       "      <td>190</td>\n",
       "      <td>NaN</td>\n",
       "      <td>125000</td>\n",
       "      <td>gasoline</td>\n",
       "      <td>audi</td>\n",
       "      <td>yes</td>\n",
       "      <td>2016-03-24 00:00:00</td>\n",
       "      <td>2016-04-07 01:46:50</td>\n",
       "    </tr>\n",
       "    <tr>\n",
       "      <td>2</td>\n",
       "      <td>2016-03-14 12:52:21</td>\n",
       "      <td>9800</td>\n",
       "      <td>suv</td>\n",
       "      <td>2004</td>\n",
       "      <td>auto</td>\n",
       "      <td>163</td>\n",
       "      <td>grand</td>\n",
       "      <td>125000</td>\n",
       "      <td>gasoline</td>\n",
       "      <td>jeep</td>\n",
       "      <td>NaN</td>\n",
       "      <td>2016-03-14 00:00:00</td>\n",
       "      <td>2016-04-05 12:47:46</td>\n",
       "    </tr>\n",
       "    <tr>\n",
       "      <td>3</td>\n",
       "      <td>2016-03-17 16:54:04</td>\n",
       "      <td>1500</td>\n",
       "      <td>small</td>\n",
       "      <td>2001</td>\n",
       "      <td>manual</td>\n",
       "      <td>75</td>\n",
       "      <td>golf</td>\n",
       "      <td>150000</td>\n",
       "      <td>petrol</td>\n",
       "      <td>volkswagen</td>\n",
       "      <td>no</td>\n",
       "      <td>2016-03-17 00:00:00</td>\n",
       "      <td>2016-03-17 17:40:17</td>\n",
       "    </tr>\n",
       "    <tr>\n",
       "      <td>4</td>\n",
       "      <td>2016-03-31 17:25:20</td>\n",
       "      <td>3600</td>\n",
       "      <td>small</td>\n",
       "      <td>2008</td>\n",
       "      <td>manual</td>\n",
       "      <td>69</td>\n",
       "      <td>fabia</td>\n",
       "      <td>90000</td>\n",
       "      <td>gasoline</td>\n",
       "      <td>skoda</td>\n",
       "      <td>no</td>\n",
       "      <td>2016-03-31 00:00:00</td>\n",
       "      <td>2016-04-06 10:17:21</td>\n",
       "    </tr>\n",
       "  </tbody>\n",
       "</table>\n",
       "</div>"
      ],
      "text/plain": [
       "           DateCrawled  Price VehicleType  RegistrationYear Gearbox  Power  \\\n",
       "0  2016-03-24 11:52:17    480         NaN              1993  manual      0   \n",
       "1  2016-03-24 10:58:45  18300       coupe              2011  manual    190   \n",
       "2  2016-03-14 12:52:21   9800         suv              2004    auto    163   \n",
       "3  2016-03-17 16:54:04   1500       small              2001  manual     75   \n",
       "4  2016-03-31 17:25:20   3600       small              2008  manual     69   \n",
       "\n",
       "   Model  Kilometer  FuelType       Brand NotRepaired          DateCreated  \\\n",
       "0   golf     150000    petrol  volkswagen         NaN  2016-03-24 00:00:00   \n",
       "1    NaN     125000  gasoline        audi         yes  2016-03-24 00:00:00   \n",
       "2  grand     125000  gasoline        jeep         NaN  2016-03-14 00:00:00   \n",
       "3   golf     150000    petrol  volkswagen          no  2016-03-17 00:00:00   \n",
       "4  fabia      90000  gasoline       skoda          no  2016-03-31 00:00:00   \n",
       "\n",
       "              LastSeen  \n",
       "0  2016-04-07 03:16:57  \n",
       "1  2016-04-07 01:46:50  \n",
       "2  2016-04-05 12:47:46  \n",
       "3  2016-03-17 17:40:17  \n",
       "4  2016-04-06 10:17:21  "
      ]
     },
     "execution_count": 34,
     "metadata": {},
     "output_type": "execute_result"
    }
   ],
   "source": [
    "df.head()"
   ]
  },
  {
   "cell_type": "markdown",
   "metadata": {},
   "source": [
    "Для удобства, приведем признаки к нижнему регистру"
   ]
  },
  {
   "cell_type": "code",
   "execution_count": 35,
   "metadata": {},
   "outputs": [],
   "source": [
    "df.columns = df.columns.str.lower()"
   ]
  },
  {
   "cell_type": "code",
   "execution_count": 36,
   "metadata": {
    "scrolled": true
   },
   "outputs": [
    {
     "data": {
      "text/html": [
       "<div>\n",
       "<style scoped>\n",
       "    .dataframe tbody tr th:only-of-type {\n",
       "        vertical-align: middle;\n",
       "    }\n",
       "\n",
       "    .dataframe tbody tr th {\n",
       "        vertical-align: top;\n",
       "    }\n",
       "\n",
       "    .dataframe thead th {\n",
       "        text-align: right;\n",
       "    }\n",
       "</style>\n",
       "<table border=\"1\" class=\"dataframe\">\n",
       "  <thead>\n",
       "    <tr style=\"text-align: right;\">\n",
       "      <th></th>\n",
       "      <th>datecrawled</th>\n",
       "      <th>price</th>\n",
       "      <th>vehicletype</th>\n",
       "      <th>registrationyear</th>\n",
       "      <th>gearbox</th>\n",
       "      <th>power</th>\n",
       "      <th>model</th>\n",
       "      <th>kilometer</th>\n",
       "      <th>fueltype</th>\n",
       "      <th>brand</th>\n",
       "      <th>notrepaired</th>\n",
       "      <th>datecreated</th>\n",
       "      <th>lastseen</th>\n",
       "    </tr>\n",
       "  </thead>\n",
       "  <tbody>\n",
       "    <tr>\n",
       "      <td>0</td>\n",
       "      <td>2016-03-24 11:52:17</td>\n",
       "      <td>480</td>\n",
       "      <td>NaN</td>\n",
       "      <td>1993</td>\n",
       "      <td>manual</td>\n",
       "      <td>0</td>\n",
       "      <td>golf</td>\n",
       "      <td>150000</td>\n",
       "      <td>petrol</td>\n",
       "      <td>volkswagen</td>\n",
       "      <td>NaN</td>\n",
       "      <td>2016-03-24 00:00:00</td>\n",
       "      <td>2016-04-07 03:16:57</td>\n",
       "    </tr>\n",
       "    <tr>\n",
       "      <td>1</td>\n",
       "      <td>2016-03-24 10:58:45</td>\n",
       "      <td>18300</td>\n",
       "      <td>coupe</td>\n",
       "      <td>2011</td>\n",
       "      <td>manual</td>\n",
       "      <td>190</td>\n",
       "      <td>NaN</td>\n",
       "      <td>125000</td>\n",
       "      <td>gasoline</td>\n",
       "      <td>audi</td>\n",
       "      <td>yes</td>\n",
       "      <td>2016-03-24 00:00:00</td>\n",
       "      <td>2016-04-07 01:46:50</td>\n",
       "    </tr>\n",
       "    <tr>\n",
       "      <td>2</td>\n",
       "      <td>2016-03-14 12:52:21</td>\n",
       "      <td>9800</td>\n",
       "      <td>suv</td>\n",
       "      <td>2004</td>\n",
       "      <td>auto</td>\n",
       "      <td>163</td>\n",
       "      <td>grand</td>\n",
       "      <td>125000</td>\n",
       "      <td>gasoline</td>\n",
       "      <td>jeep</td>\n",
       "      <td>NaN</td>\n",
       "      <td>2016-03-14 00:00:00</td>\n",
       "      <td>2016-04-05 12:47:46</td>\n",
       "    </tr>\n",
       "    <tr>\n",
       "      <td>3</td>\n",
       "      <td>2016-03-17 16:54:04</td>\n",
       "      <td>1500</td>\n",
       "      <td>small</td>\n",
       "      <td>2001</td>\n",
       "      <td>manual</td>\n",
       "      <td>75</td>\n",
       "      <td>golf</td>\n",
       "      <td>150000</td>\n",
       "      <td>petrol</td>\n",
       "      <td>volkswagen</td>\n",
       "      <td>no</td>\n",
       "      <td>2016-03-17 00:00:00</td>\n",
       "      <td>2016-03-17 17:40:17</td>\n",
       "    </tr>\n",
       "    <tr>\n",
       "      <td>4</td>\n",
       "      <td>2016-03-31 17:25:20</td>\n",
       "      <td>3600</td>\n",
       "      <td>small</td>\n",
       "      <td>2008</td>\n",
       "      <td>manual</td>\n",
       "      <td>69</td>\n",
       "      <td>fabia</td>\n",
       "      <td>90000</td>\n",
       "      <td>gasoline</td>\n",
       "      <td>skoda</td>\n",
       "      <td>no</td>\n",
       "      <td>2016-03-31 00:00:00</td>\n",
       "      <td>2016-04-06 10:17:21</td>\n",
       "    </tr>\n",
       "  </tbody>\n",
       "</table>\n",
       "</div>"
      ],
      "text/plain": [
       "           datecrawled  price vehicletype  registrationyear gearbox  power  \\\n",
       "0  2016-03-24 11:52:17    480         NaN              1993  manual      0   \n",
       "1  2016-03-24 10:58:45  18300       coupe              2011  manual    190   \n",
       "2  2016-03-14 12:52:21   9800         suv              2004    auto    163   \n",
       "3  2016-03-17 16:54:04   1500       small              2001  manual     75   \n",
       "4  2016-03-31 17:25:20   3600       small              2008  manual     69   \n",
       "\n",
       "   model  kilometer  fueltype       brand notrepaired          datecreated  \\\n",
       "0   golf     150000    petrol  volkswagen         NaN  2016-03-24 00:00:00   \n",
       "1    NaN     125000  gasoline        audi         yes  2016-03-24 00:00:00   \n",
       "2  grand     125000  gasoline        jeep         NaN  2016-03-14 00:00:00   \n",
       "3   golf     150000    petrol  volkswagen          no  2016-03-17 00:00:00   \n",
       "4  fabia      90000  gasoline       skoda          no  2016-03-31 00:00:00   \n",
       "\n",
       "              lastseen  \n",
       "0  2016-04-07 03:16:57  \n",
       "1  2016-04-07 01:46:50  \n",
       "2  2016-04-05 12:47:46  \n",
       "3  2016-03-17 17:40:17  \n",
       "4  2016-04-06 10:17:21  "
      ]
     },
     "execution_count": 36,
     "metadata": {},
     "output_type": "execute_result"
    }
   ],
   "source": [
    "df.head()"
   ]
  },
  {
   "cell_type": "markdown",
   "metadata": {},
   "source": [
    "Избавимся от дубликатов"
   ]
  },
  {
   "cell_type": "code",
   "execution_count": 37,
   "metadata": {},
   "outputs": [],
   "source": [
    "df = df.drop_duplicates()"
   ]
  },
  {
   "cell_type": "code",
   "execution_count": 38,
   "metadata": {},
   "outputs": [
    {
     "data": {
      "text/plain": [
       "0"
      ]
     },
     "execution_count": 38,
     "metadata": {},
     "output_type": "execute_result"
    }
   ],
   "source": [
    "df.duplicated().sum()"
   ]
  },
  {
   "cell_type": "markdown",
   "metadata": {},
   "source": [
    "Обработаем объекты с нулевыми ценами"
   ]
  },
  {
   "cell_type": "code",
   "execution_count": 39,
   "metadata": {
    "scrolled": true
   },
   "outputs": [
    {
     "data": {
      "text/plain": [
       "10772"
      ]
     },
     "execution_count": 39,
     "metadata": {},
     "output_type": "execute_result"
    }
   ],
   "source": [
    "len(df.query('price == 0'))"
   ]
  },
  {
   "cell_type": "markdown",
   "metadata": {},
   "source": [
    "От общей массы в 350000 строк, 3% не будут являться критическим объемом, поэтому избавимся от них"
   ]
  },
  {
   "cell_type": "code",
   "execution_count": 40,
   "metadata": {},
   "outputs": [],
   "source": [
    "df = df[df['price'] != 0]"
   ]
  },
  {
   "cell_type": "code",
   "execution_count": 41,
   "metadata": {
    "scrolled": true
   },
   "outputs": [
    {
     "data": {
      "image/png": "[encoded data removed]",
      "text/plain": [
       "<Figure size 432x288 with 1 Axes>"
      ]
     },
     "metadata": {
      "needs_background": "light"
     },
     "output_type": "display_data"
    }
   ],
   "source": [
    "df['price'].hist()\n",
    "plt.title('Распределение цены автомобилей')\n",
    "plt.xlabel('Цена')\n",
    "plt.ylabel('Кол-во')\n",
    "plt.show()"
   ]
  },
  {
   "cell_type": "markdown",
   "metadata": {},
   "source": [
    "Теперь разберемся со слишком мощными автомобилями"
   ]
  },
  {
   "cell_type": "code",
   "execution_count": 42,
   "metadata": {
    "scrolled": true
   },
   "outputs": [
    {
     "data": {
      "text/plain": [
       "286"
      ]
     },
     "execution_count": 42,
     "metadata": {},
     "output_type": "execute_result"
    }
   ],
   "source": [
    "len(df.query('power > 1000'))"
   ]
  },
  {
   "cell_type": "markdown",
   "metadata": {},
   "source": [
    "Также интересны \"безмощные\" кони"
   ]
  },
  {
   "cell_type": "code",
   "execution_count": 43,
   "metadata": {
    "scrolled": true
   },
   "outputs": [
    {
     "data": {
      "text/plain": [
       "36360"
      ]
     },
     "execution_count": 43,
     "metadata": {},
     "output_type": "execute_result"
    }
   ],
   "source": [
    "len(df.query('power == 0'))"
   ]
  },
  {
   "cell_type": "markdown",
   "metadata": {},
   "source": [
    "Итого, 10% значений. Удалять будет расточительно, забьем медианой"
   ]
  },
  {
   "cell_type": "code",
   "execution_count": 44,
   "metadata": {},
   "outputs": [],
   "source": [
    "df.loc[(df['power'] > 1000) | (df['power'] <= 0), 'power'] = None\n",
    "df['power'] = df['power'].fillna(df.groupby('model')['power'].transform('median'))"
   ]
  },
  {
   "cell_type": "code",
   "execution_count": 45,
   "metadata": {
    "scrolled": true
   },
   "outputs": [
    {
     "data": {
      "text/plain": [
       "5062"
      ]
     },
     "execution_count": 45,
     "metadata": {},
     "output_type": "execute_result"
    }
   ],
   "source": [
    "df['power'].isna().sum()"
   ]
  },
  {
   "cell_type": "markdown",
   "metadata": {},
   "source": [
    "Избавимся от пропусков"
   ]
  },
  {
   "cell_type": "code",
   "execution_count": 46,
   "metadata": {},
   "outputs": [],
   "source": [
    "df = df[~df['power'].isna()]"
   ]
  },
  {
   "cell_type": "markdown",
   "metadata": {},
   "source": [
    "Приведем мощность к int'у"
   ]
  },
  {
   "cell_type": "code",
   "execution_count": 47,
   "metadata": {},
   "outputs": [],
   "source": [
    "df['power'] = df['power'].astype('int64')"
   ]
  },
  {
   "cell_type": "code",
   "execution_count": 48,
   "metadata": {
    "scrolled": true
   },
   "outputs": [
    {
     "data": {
      "image/png": "[encoded data removed]",
      "text/plain": [
       "<Figure size 432x288 with 1 Axes>"
      ]
     },
     "metadata": {
      "needs_background": "light"
     },
     "output_type": "display_data"
    }
   ],
   "source": [
    "df['power'].hist()\n",
    "plt.title('Распределение цены автомобилей')\n",
    "plt.xlabel('Мощность')\n",
    "plt.ylabel('Кол-во')\n",
    "plt.show()"
   ]
  },
  {
   "cell_type": "code",
   "execution_count": 49,
   "metadata": {
    "scrolled": true
   },
   "outputs": [
    {
     "data": {
      "text/plain": [
       "Text(0.5, 1.0, 'Диаграмма выбросов мощности')"
      ]
     },
     "execution_count": 49,
     "metadata": {},
     "output_type": "execute_result"
    },
    {
     "data": {
      "image/png": "[encoded data removed]",
      "text/plain": [
       "<Figure size 432x288 with 1 Axes>"
      ]
     },
     "metadata": {
      "needs_background": "light"
     },
     "output_type": "display_data"
    }
   ],
   "source": [
    "sns.boxplot(x=df['power'], linewidth=2.5).set_title('Диаграмма выбросов мощности')"
   ]
  },
  {
   "cell_type": "markdown",
   "metadata": {},
   "source": [
    "Стало гораздо адекватнее"
   ]
  },
  {
   "cell_type": "markdown",
   "metadata": {},
   "source": [
    "Переходим к моделям авто"
   ]
  },
  {
   "cell_type": "code",
   "execution_count": 50,
   "metadata": {},
   "outputs": [
    {
     "data": {
      "text/plain": [
       "12460"
      ]
     },
     "execution_count": 50,
     "metadata": {},
     "output_type": "execute_result"
    }
   ],
   "source": [
    "df['model'].isna().sum()"
   ]
  },
  {
   "cell_type": "code",
   "execution_count": 51,
   "metadata": {
    "scrolled": true
   },
   "outputs": [
    {
     "data": {
      "text/plain": [
       "count     326070\n",
       "unique       249\n",
       "top         golf\n",
       "freq       28245\n",
       "Name: model, dtype: object"
      ]
     },
     "execution_count": 51,
     "metadata": {},
     "output_type": "execute_result"
    }
   ],
   "source": [
    "df['model'].describe()"
   ]
  },
  {
   "cell_type": "code",
   "execution_count": 52,
   "metadata": {},
   "outputs": [
    {
     "name": "stdout",
     "output_type": "stream",
     "text": [
      "Доля пропущенных значений в признаке model: 4%\n"
     ]
    }
   ],
   "source": [
    "number = round(12460 / 326070 * 100)\n",
    "print(f'Доля пропущенных значений в признаке model: {number}%')"
   ]
  },
  {
   "cell_type": "code",
   "execution_count": 53,
   "metadata": {},
   "outputs": [],
   "source": [
    "df = df[~df['model'].isna()]"
   ]
  },
  {
   "cell_type": "code",
   "execution_count": 54,
   "metadata": {},
   "outputs": [
    {
     "data": {
      "text/plain": [
       "0"
      ]
     },
     "execution_count": 54,
     "metadata": {},
     "output_type": "execute_result"
    }
   ],
   "source": [
    "df['model'].isnull().sum()"
   ]
  },
  {
   "cell_type": "code",
   "execution_count": 55,
   "metadata": {},
   "outputs": [
    {
     "data": {
      "text/html": [
       "<div>\n",
       "<style scoped>\n",
       "    .dataframe tbody tr th:only-of-type {\n",
       "        vertical-align: middle;\n",
       "    }\n",
       "\n",
       "    .dataframe tbody tr th {\n",
       "        vertical-align: top;\n",
       "    }\n",
       "\n",
       "    .dataframe thead th {\n",
       "        text-align: right;\n",
       "    }\n",
       "</style>\n",
       "<table border=\"1\" class=\"dataframe\">\n",
       "  <thead>\n",
       "    <tr style=\"text-align: right;\">\n",
       "      <th></th>\n",
       "      <th>datecrawled</th>\n",
       "      <th>price</th>\n",
       "      <th>vehicletype</th>\n",
       "      <th>registrationyear</th>\n",
       "      <th>gearbox</th>\n",
       "      <th>power</th>\n",
       "      <th>model</th>\n",
       "      <th>kilometer</th>\n",
       "      <th>fueltype</th>\n",
       "      <th>brand</th>\n",
       "      <th>notrepaired</th>\n",
       "      <th>datecreated</th>\n",
       "      <th>lastseen</th>\n",
       "    </tr>\n",
       "  </thead>\n",
       "  <tbody>\n",
       "    <tr>\n",
       "      <td>0</td>\n",
       "      <td>2016-03-24 11:52:17</td>\n",
       "      <td>480</td>\n",
       "      <td>NaN</td>\n",
       "      <td>1993</td>\n",
       "      <td>manual</td>\n",
       "      <td>101</td>\n",
       "      <td>golf</td>\n",
       "      <td>150000</td>\n",
       "      <td>petrol</td>\n",
       "      <td>volkswagen</td>\n",
       "      <td>NaN</td>\n",
       "      <td>2016-03-24 00:00:00</td>\n",
       "      <td>2016-04-07 03:16:57</td>\n",
       "    </tr>\n",
       "    <tr>\n",
       "      <td>2</td>\n",
       "      <td>2016-03-14 12:52:21</td>\n",
       "      <td>9800</td>\n",
       "      <td>suv</td>\n",
       "      <td>2004</td>\n",
       "      <td>auto</td>\n",
       "      <td>163</td>\n",
       "      <td>grand</td>\n",
       "      <td>125000</td>\n",
       "      <td>gasoline</td>\n",
       "      <td>jeep</td>\n",
       "      <td>NaN</td>\n",
       "      <td>2016-03-14 00:00:00</td>\n",
       "      <td>2016-04-05 12:47:46</td>\n",
       "    </tr>\n",
       "    <tr>\n",
       "      <td>3</td>\n",
       "      <td>2016-03-17 16:54:04</td>\n",
       "      <td>1500</td>\n",
       "      <td>small</td>\n",
       "      <td>2001</td>\n",
       "      <td>manual</td>\n",
       "      <td>75</td>\n",
       "      <td>golf</td>\n",
       "      <td>150000</td>\n",
       "      <td>petrol</td>\n",
       "      <td>volkswagen</td>\n",
       "      <td>no</td>\n",
       "      <td>2016-03-17 00:00:00</td>\n",
       "      <td>2016-03-17 17:40:17</td>\n",
       "    </tr>\n",
       "    <tr>\n",
       "      <td>4</td>\n",
       "      <td>2016-03-31 17:25:20</td>\n",
       "      <td>3600</td>\n",
       "      <td>small</td>\n",
       "      <td>2008</td>\n",
       "      <td>manual</td>\n",
       "      <td>69</td>\n",
       "      <td>fabia</td>\n",
       "      <td>90000</td>\n",
       "      <td>gasoline</td>\n",
       "      <td>skoda</td>\n",
       "      <td>no</td>\n",
       "      <td>2016-03-31 00:00:00</td>\n",
       "      <td>2016-04-06 10:17:21</td>\n",
       "    </tr>\n",
       "    <tr>\n",
       "      <td>5</td>\n",
       "      <td>2016-04-04 17:36:23</td>\n",
       "      <td>650</td>\n",
       "      <td>sedan</td>\n",
       "      <td>1995</td>\n",
       "      <td>manual</td>\n",
       "      <td>102</td>\n",
       "      <td>3er</td>\n",
       "      <td>150000</td>\n",
       "      <td>petrol</td>\n",
       "      <td>bmw</td>\n",
       "      <td>yes</td>\n",
       "      <td>2016-04-04 00:00:00</td>\n",
       "      <td>2016-04-06 19:17:07</td>\n",
       "    </tr>\n",
       "  </tbody>\n",
       "</table>\n",
       "</div>"
      ],
      "text/plain": [
       "           datecrawled  price vehicletype  registrationyear gearbox  power  \\\n",
       "0  2016-03-24 11:52:17    480         NaN              1993  manual    101   \n",
       "2  2016-03-14 12:52:21   9800         suv              2004    auto    163   \n",
       "3  2016-03-17 16:54:04   1500       small              2001  manual     75   \n",
       "4  2016-03-31 17:25:20   3600       small              2008  manual     69   \n",
       "5  2016-04-04 17:36:23    650       sedan              1995  manual    102   \n",
       "\n",
       "   model  kilometer  fueltype       brand notrepaired          datecreated  \\\n",
       "0   golf     150000    petrol  volkswagen         NaN  2016-03-24 00:00:00   \n",
       "2  grand     125000  gasoline        jeep         NaN  2016-03-14 00:00:00   \n",
       "3   golf     150000    petrol  volkswagen          no  2016-03-17 00:00:00   \n",
       "4  fabia      90000  gasoline       skoda          no  2016-03-31 00:00:00   \n",
       "5    3er     150000    petrol         bmw         yes  2016-04-04 00:00:00   \n",
       "\n",
       "              lastseen  \n",
       "0  2016-04-07 03:16:57  \n",
       "2  2016-04-05 12:47:46  \n",
       "3  2016-03-17 17:40:17  \n",
       "4  2016-04-06 10:17:21  \n",
       "5  2016-04-06 19:17:07  "
      ]
     },
     "execution_count": 55,
     "metadata": {},
     "output_type": "execute_result"
    }
   ],
   "source": [
    "df.head()"
   ]
  },
  {
   "cell_type": "markdown",
   "metadata": {},
   "source": [
    "Переходим к признаку *vehicletype*"
   ]
  },
  {
   "cell_type": "code",
   "execution_count": 56,
   "metadata": {},
   "outputs": [
    {
     "data": {
      "text/plain": [
       "28166"
      ]
     },
     "execution_count": 56,
     "metadata": {},
     "output_type": "execute_result"
    }
   ],
   "source": [
    "df['vehicletype'].isna().sum()"
   ]
  },
  {
   "cell_type": "markdown",
   "metadata": {},
   "source": [
    "Заполним самым частотным значением у автомобилей такой же модели"
   ]
  },
  {
   "cell_type": "code",
   "execution_count": 57,
   "metadata": {},
   "outputs": [],
   "source": [
    "df['vehicletype'] = df['vehicletype'].fillna(df.groupby('model')['vehicletype']\n",
    "                                             .transform(lambda x: x.value_counts().idxmax()))"
   ]
  },
  {
   "cell_type": "markdown",
   "metadata": {},
   "source": [
    "Продублируем с *gearbox и fueltype*"
   ]
  },
  {
   "cell_type": "code",
   "execution_count": 58,
   "metadata": {},
   "outputs": [
    {
     "data": {
      "text/plain": [
       "14270"
      ]
     },
     "execution_count": 58,
     "metadata": {},
     "output_type": "execute_result"
    }
   ],
   "source": [
    "df['gearbox'].isna().sum()"
   ]
  },
  {
   "cell_type": "code",
   "execution_count": 59,
   "metadata": {},
   "outputs": [
    {
     "data": {
      "text/plain": [
       "23551"
      ]
     },
     "execution_count": 59,
     "metadata": {},
     "output_type": "execute_result"
    }
   ],
   "source": [
    "df['fueltype'].isna().sum()"
   ]
  },
  {
   "cell_type": "code",
   "execution_count": 60,
   "metadata": {},
   "outputs": [],
   "source": [
    "df['gearbox'] = df['gearbox'].fillna(df.groupby('model')['gearbox']\n",
    "                                             .transform(lambda x: x.value_counts().idxmax()))"
   ]
  },
  {
   "cell_type": "code",
   "execution_count": 61,
   "metadata": {},
   "outputs": [],
   "source": [
    "df['fueltype'] = df['fueltype'].fillna(df.groupby('model')['fueltype']\n",
    "                                             .transform(lambda x: x.value_counts().idxmax()))"
   ]
  },
  {
   "cell_type": "markdown",
   "metadata": {},
   "source": [
    "Далее признак \"бывалости в ремонте\" *notrepaired*"
   ]
  },
  {
   "cell_type": "code",
   "execution_count": 62,
   "metadata": {},
   "outputs": [
    {
     "data": {
      "text/plain": [
       "58292"
      ]
     },
     "execution_count": 62,
     "metadata": {},
     "output_type": "execute_result"
    }
   ],
   "source": [
    "df['notrepaired'].isna().sum()"
   ]
  },
  {
   "cell_type": "markdown",
   "metadata": {},
   "source": [
    "Почти 20% пропусков. Удалять не вариант"
   ]
  },
  {
   "cell_type": "code",
   "execution_count": 63,
   "metadata": {
    "scrolled": true
   },
   "outputs": [
    {
     "data": {
      "text/plain": [
       "no     235820\n",
       "yes     31958\n",
       "Name: notrepaired, dtype: int64"
      ]
     },
     "execution_count": 63,
     "metadata": {},
     "output_type": "execute_result"
    }
   ],
   "source": [
    "df['notrepaired'].value_counts()"
   ]
  },
  {
   "cell_type": "markdown",
   "metadata": {},
   "source": [
    "Здесь нет логики в заполнении медианой или частотным значением, пометим как неопределенный тип"
   ]
  },
  {
   "cell_type": "code",
   "execution_count": 64,
   "metadata": {},
   "outputs": [],
   "source": [
    "df['notrepaired'] = df['notrepaired'].fillna('undefined')"
   ]
  },
  {
   "cell_type": "code",
   "execution_count": 65,
   "metadata": {},
   "outputs": [
    {
     "data": {
      "text/plain": [
       "0"
      ]
     },
     "execution_count": 65,
     "metadata": {},
     "output_type": "execute_result"
    }
   ],
   "source": [
    "df['notrepaired'].isna().sum()"
   ]
  },
  {
   "cell_type": "markdown",
   "metadata": {},
   "source": [
    "Признак дата скачивания анкеты из базы *datecrawled* повторяет дату создания, плюс никак не повлияет на качество модели, удалим его"
   ]
  },
  {
   "cell_type": "code",
   "execution_count": 66,
   "metadata": {},
   "outputs": [],
   "source": [
    "df = df.drop(['datecrawled'], axis=1)"
   ]
  },
  {
   "cell_type": "markdown",
   "metadata": {},
   "source": [
    "По логике, остальные принаки с датами также не помогут повысить качество модели, дропнем из за компаниию"
   ]
  },
  {
   "cell_type": "code",
   "execution_count": 67,
   "metadata": {},
   "outputs": [],
   "source": [
    "df = df.drop(['datecreated', 'lastseen'], axis=1)"
   ]
  },
  {
   "cell_type": "code",
   "execution_count": 68,
   "metadata": {
    "scrolled": true
   },
   "outputs": [
    {
     "data": {
      "text/html": [
       "<div>\n",
       "<style scoped>\n",
       "    .dataframe tbody tr th:only-of-type {\n",
       "        vertical-align: middle;\n",
       "    }\n",
       "\n",
       "    .dataframe tbody tr th {\n",
       "        vertical-align: top;\n",
       "    }\n",
       "\n",
       "    .dataframe thead th {\n",
       "        text-align: right;\n",
       "    }\n",
       "</style>\n",
       "<table border=\"1\" class=\"dataframe\">\n",
       "  <thead>\n",
       "    <tr style=\"text-align: right;\">\n",
       "      <th></th>\n",
       "      <th>price</th>\n",
       "      <th>vehicletype</th>\n",
       "      <th>registrationyear</th>\n",
       "      <th>gearbox</th>\n",
       "      <th>power</th>\n",
       "      <th>model</th>\n",
       "      <th>kilometer</th>\n",
       "      <th>fueltype</th>\n",
       "      <th>brand</th>\n",
       "      <th>notrepaired</th>\n",
       "    </tr>\n",
       "  </thead>\n",
       "  <tbody>\n",
       "    <tr>\n",
       "      <td>0</td>\n",
       "      <td>480</td>\n",
       "      <td>sedan</td>\n",
       "      <td>1993</td>\n",
       "      <td>manual</td>\n",
       "      <td>101</td>\n",
       "      <td>golf</td>\n",
       "      <td>150000</td>\n",
       "      <td>petrol</td>\n",
       "      <td>volkswagen</td>\n",
       "      <td>undefined</td>\n",
       "    </tr>\n",
       "    <tr>\n",
       "      <td>2</td>\n",
       "      <td>9800</td>\n",
       "      <td>suv</td>\n",
       "      <td>2004</td>\n",
       "      <td>auto</td>\n",
       "      <td>163</td>\n",
       "      <td>grand</td>\n",
       "      <td>125000</td>\n",
       "      <td>gasoline</td>\n",
       "      <td>jeep</td>\n",
       "      <td>undefined</td>\n",
       "    </tr>\n",
       "    <tr>\n",
       "      <td>3</td>\n",
       "      <td>1500</td>\n",
       "      <td>small</td>\n",
       "      <td>2001</td>\n",
       "      <td>manual</td>\n",
       "      <td>75</td>\n",
       "      <td>golf</td>\n",
       "      <td>150000</td>\n",
       "      <td>petrol</td>\n",
       "      <td>volkswagen</td>\n",
       "      <td>no</td>\n",
       "    </tr>\n",
       "    <tr>\n",
       "      <td>4</td>\n",
       "      <td>3600</td>\n",
       "      <td>small</td>\n",
       "      <td>2008</td>\n",
       "      <td>manual</td>\n",
       "      <td>69</td>\n",
       "      <td>fabia</td>\n",
       "      <td>90000</td>\n",
       "      <td>gasoline</td>\n",
       "      <td>skoda</td>\n",
       "      <td>no</td>\n",
       "    </tr>\n",
       "    <tr>\n",
       "      <td>5</td>\n",
       "      <td>650</td>\n",
       "      <td>sedan</td>\n",
       "      <td>1995</td>\n",
       "      <td>manual</td>\n",
       "      <td>102</td>\n",
       "      <td>3er</td>\n",
       "      <td>150000</td>\n",
       "      <td>petrol</td>\n",
       "      <td>bmw</td>\n",
       "      <td>yes</td>\n",
       "    </tr>\n",
       "  </tbody>\n",
       "</table>\n",
       "</div>"
      ],
      "text/plain": [
       "   price vehicletype  registrationyear gearbox  power  model  kilometer  \\\n",
       "0    480       sedan              1993  manual    101   golf     150000   \n",
       "2   9800         suv              2004    auto    163  grand     125000   \n",
       "3   1500       small              2001  manual     75   golf     150000   \n",
       "4   3600       small              2008  manual     69  fabia      90000   \n",
       "5    650       sedan              1995  manual    102    3er     150000   \n",
       "\n",
       "   fueltype       brand notrepaired  \n",
       "0    petrol  volkswagen   undefined  \n",
       "2  gasoline        jeep   undefined  \n",
       "3    petrol  volkswagen          no  \n",
       "4  gasoline       skoda          no  \n",
       "5    petrol         bmw         yes  "
      ]
     },
     "execution_count": 68,
     "metadata": {},
     "output_type": "execute_result"
    }
   ],
   "source": [
    "df.head()"
   ]
  },
  {
   "cell_type": "code",
   "execution_count": 69,
   "metadata": {
    "scrolled": false
   },
   "outputs": [
    {
     "name": "stdout",
     "output_type": "stream",
     "text": [
      "<class 'pandas.core.frame.DataFrame'>\n",
      "Int64Index: 326070 entries, 0 to 354368\n",
      "Data columns (total 10 columns):\n",
      "price               326070 non-null int64\n",
      "vehicletype         326070 non-null object\n",
      "registrationyear    326070 non-null int64\n",
      "gearbox             326070 non-null object\n",
      "power               326070 non-null int64\n",
      "model               326070 non-null object\n",
      "kilometer           326070 non-null int64\n",
      "fueltype            326070 non-null object\n",
      "brand               326070 non-null object\n",
      "notrepaired         326070 non-null object\n",
      "dtypes: int64(4), object(6)\n",
      "memory usage: 27.4+ MB\n"
     ]
    }
   ],
   "source": [
    "df.info()"
   ]
  },
  {
   "cell_type": "markdown",
   "metadata": {},
   "source": [
    "У года регистрации также есть вопросы, первый \"автомобиль\" был изобретен в 1770 году, плюс нужно избавиться от значений, у который год превышает текущий"
   ]
  },
  {
   "cell_type": "code",
   "execution_count": 70,
   "metadata": {},
   "outputs": [
    {
     "data": {
      "text/plain": [
       "58"
      ]
     },
     "execution_count": 70,
     "metadata": {},
     "output_type": "execute_result"
    }
   ],
   "source": [
    "len(df.query('registrationyear > 2021'))"
   ]
  },
  {
   "cell_type": "code",
   "execution_count": 71,
   "metadata": {},
   "outputs": [
    {
     "data": {
      "text/plain": [
       "25"
      ]
     },
     "execution_count": 71,
     "metadata": {},
     "output_type": "execute_result"
    }
   ],
   "source": [
    "len(df.query('registrationyear < 1770'))"
   ]
  },
  {
   "cell_type": "code",
   "execution_count": 72,
   "metadata": {},
   "outputs": [],
   "source": [
    "df = df.query('registrationyear > 1770 & registrationyear < 2021')"
   ]
  },
  {
   "cell_type": "code",
   "execution_count": 73,
   "metadata": {},
   "outputs": [],
   "source": [
    "#df = df.loc[~(df['registrationyear'] < 1770) & ~(df['registrationyear'] > 2021)]"
   ]
  },
  {
   "cell_type": "code",
   "execution_count": 74,
   "metadata": {
    "scrolled": false
   },
   "outputs": [
    {
     "data": {
      "text/html": [
       "<div>\n",
       "<style scoped>\n",
       "    .dataframe tbody tr th:only-of-type {\n",
       "        vertical-align: middle;\n",
       "    }\n",
       "\n",
       "    .dataframe tbody tr th {\n",
       "        vertical-align: top;\n",
       "    }\n",
       "\n",
       "    .dataframe thead th {\n",
       "        text-align: right;\n",
       "    }\n",
       "</style>\n",
       "<table border=\"1\" class=\"dataframe\">\n",
       "  <thead>\n",
       "    <tr style=\"text-align: right;\">\n",
       "      <th></th>\n",
       "      <th>price</th>\n",
       "      <th>vehicletype</th>\n",
       "      <th>registrationyear</th>\n",
       "      <th>gearbox</th>\n",
       "      <th>power</th>\n",
       "      <th>model</th>\n",
       "      <th>kilometer</th>\n",
       "      <th>fueltype</th>\n",
       "      <th>brand</th>\n",
       "      <th>notrepaired</th>\n",
       "    </tr>\n",
       "  </thead>\n",
       "  <tbody>\n",
       "    <tr>\n",
       "      <td>0</td>\n",
       "      <td>480</td>\n",
       "      <td>sedan</td>\n",
       "      <td>1993</td>\n",
       "      <td>manual</td>\n",
       "      <td>101</td>\n",
       "      <td>golf</td>\n",
       "      <td>150000</td>\n",
       "      <td>petrol</td>\n",
       "      <td>volkswagen</td>\n",
       "      <td>undefined</td>\n",
       "    </tr>\n",
       "    <tr>\n",
       "      <td>2</td>\n",
       "      <td>9800</td>\n",
       "      <td>suv</td>\n",
       "      <td>2004</td>\n",
       "      <td>auto</td>\n",
       "      <td>163</td>\n",
       "      <td>grand</td>\n",
       "      <td>125000</td>\n",
       "      <td>gasoline</td>\n",
       "      <td>jeep</td>\n",
       "      <td>undefined</td>\n",
       "    </tr>\n",
       "    <tr>\n",
       "      <td>3</td>\n",
       "      <td>1500</td>\n",
       "      <td>small</td>\n",
       "      <td>2001</td>\n",
       "      <td>manual</td>\n",
       "      <td>75</td>\n",
       "      <td>golf</td>\n",
       "      <td>150000</td>\n",
       "      <td>petrol</td>\n",
       "      <td>volkswagen</td>\n",
       "      <td>no</td>\n",
       "    </tr>\n",
       "    <tr>\n",
       "      <td>4</td>\n",
       "      <td>3600</td>\n",
       "      <td>small</td>\n",
       "      <td>2008</td>\n",
       "      <td>manual</td>\n",
       "      <td>69</td>\n",
       "      <td>fabia</td>\n",
       "      <td>90000</td>\n",
       "      <td>gasoline</td>\n",
       "      <td>skoda</td>\n",
       "      <td>no</td>\n",
       "    </tr>\n",
       "    <tr>\n",
       "      <td>5</td>\n",
       "      <td>650</td>\n",
       "      <td>sedan</td>\n",
       "      <td>1995</td>\n",
       "      <td>manual</td>\n",
       "      <td>102</td>\n",
       "      <td>3er</td>\n",
       "      <td>150000</td>\n",
       "      <td>petrol</td>\n",
       "      <td>bmw</td>\n",
       "      <td>yes</td>\n",
       "    </tr>\n",
       "  </tbody>\n",
       "</table>\n",
       "</div>"
      ],
      "text/plain": [
       "   price vehicletype  registrationyear gearbox  power  model  kilometer  \\\n",
       "0    480       sedan              1993  manual    101   golf     150000   \n",
       "2   9800         suv              2004    auto    163  grand     125000   \n",
       "3   1500       small              2001  manual     75   golf     150000   \n",
       "4   3600       small              2008  manual     69  fabia      90000   \n",
       "5    650       sedan              1995  manual    102    3er     150000   \n",
       "\n",
       "   fueltype       brand notrepaired  \n",
       "0    petrol  volkswagen   undefined  \n",
       "2  gasoline        jeep   undefined  \n",
       "3    petrol  volkswagen          no  \n",
       "4  gasoline       skoda          no  \n",
       "5    petrol         bmw         yes  "
      ]
     },
     "execution_count": 74,
     "metadata": {},
     "output_type": "execute_result"
    }
   ],
   "source": [
    "df.head()"
   ]
  },
  {
   "cell_type": "markdown",
   "metadata": {},
   "source": [
    "Взглянем на корреляцию"
   ]
  },
  {
   "cell_type": "code",
   "execution_count": 75,
   "metadata": {
    "scrolled": false
   },
   "outputs": [
    {
     "data": {
      "text/html": [
       "<style  type=\"text/css\" >\n",
       "    #T_c5289f94_a267_11eb_9818_02420a394237row0_col0 {\n",
       "            background-color:  #b40426;\n",
       "            color:  #f1f1f1;\n",
       "        }    #T_c5289f94_a267_11eb_9818_02420a394237row0_col1 {\n",
       "            background-color:  #e0dbd8;\n",
       "            color:  #000000;\n",
       "        }    #T_c5289f94_a267_11eb_9818_02420a394237row0_col2 {\n",
       "            background-color:  #ccd9ed;\n",
       "            color:  #000000;\n",
       "        }    #T_c5289f94_a267_11eb_9818_02420a394237row0_col3 {\n",
       "            background-color:  #3b4cc0;\n",
       "            color:  #f1f1f1;\n",
       "        }    #T_c5289f94_a267_11eb_9818_02420a394237row1_col0 {\n",
       "            background-color:  #ecd3c5;\n",
       "            color:  #000000;\n",
       "        }    #T_c5289f94_a267_11eb_9818_02420a394237row1_col1 {\n",
       "            background-color:  #b40426;\n",
       "            color:  #f1f1f1;\n",
       "        }    #T_c5289f94_a267_11eb_9818_02420a394237row1_col2 {\n",
       "            background-color:  #3b4cc0;\n",
       "            color:  #f1f1f1;\n",
       "        }    #T_c5289f94_a267_11eb_9818_02420a394237row1_col3 {\n",
       "            background-color:  #5a78e4;\n",
       "            color:  #000000;\n",
       "        }    #T_c5289f94_a267_11eb_9818_02420a394237row2_col0 {\n",
       "            background-color:  #f5c2aa;\n",
       "            color:  #000000;\n",
       "        }    #T_c5289f94_a267_11eb_9818_02420a394237row2_col1 {\n",
       "            background-color:  #92b4fe;\n",
       "            color:  #000000;\n",
       "        }    #T_c5289f94_a267_11eb_9818_02420a394237row2_col2 {\n",
       "            background-color:  #b40426;\n",
       "            color:  #f1f1f1;\n",
       "        }    #T_c5289f94_a267_11eb_9818_02420a394237row2_col3 {\n",
       "            background-color:  #abc8fd;\n",
       "            color:  #000000;\n",
       "        }    #T_c5289f94_a267_11eb_9818_02420a394237row3_col0 {\n",
       "            background-color:  #3b4cc0;\n",
       "            color:  #f1f1f1;\n",
       "        }    #T_c5289f94_a267_11eb_9818_02420a394237row3_col1 {\n",
       "            background-color:  #3b4cc0;\n",
       "            color:  #f1f1f1;\n",
       "        }    #T_c5289f94_a267_11eb_9818_02420a394237row3_col2 {\n",
       "            background-color:  #3b4cc0;\n",
       "            color:  #f1f1f1;\n",
       "        }    #T_c5289f94_a267_11eb_9818_02420a394237row3_col3 {\n",
       "            background-color:  #b40426;\n",
       "            color:  #f1f1f1;\n",
       "        }</style><table id=\"T_c5289f94_a267_11eb_9818_02420a394237\" ><thead>    <tr>        <th class=\"blank level0\" ></th>        <th class=\"col_heading level0 col0\" >price</th>        <th class=\"col_heading level0 col1\" >registrationyear</th>        <th class=\"col_heading level0 col2\" >power</th>        <th class=\"col_heading level0 col3\" >kilometer</th>    </tr></thead><tbody>\n",
       "                <tr>\n",
       "                        <th id=\"T_c5289f94_a267_11eb_9818_02420a394237level0_row0\" class=\"row_heading level0 row0\" >price</th>\n",
       "                        <td id=\"T_c5289f94_a267_11eb_9818_02420a394237row0_col0\" class=\"data row0 col0\" >1</td>\n",
       "                        <td id=\"T_c5289f94_a267_11eb_9818_02420a394237row0_col1\" class=\"data row0 col1\" >0.41</td>\n",
       "                        <td id=\"T_c5289f94_a267_11eb_9818_02420a394237row0_col2\" class=\"data row0 col2\" >0.5</td>\n",
       "                        <td id=\"T_c5289f94_a267_11eb_9818_02420a394237row0_col3\" class=\"data row0 col3\" >-0.37</td>\n",
       "            </tr>\n",
       "            <tr>\n",
       "                        <th id=\"T_c5289f94_a267_11eb_9818_02420a394237level0_row1\" class=\"row_heading level0 row1\" >registrationyear</th>\n",
       "                        <td id=\"T_c5289f94_a267_11eb_9818_02420a394237row1_col0\" class=\"data row1 col0\" >0.41</td>\n",
       "                        <td id=\"T_c5289f94_a267_11eb_9818_02420a394237row1_col1\" class=\"data row1 col1\" >1</td>\n",
       "                        <td id=\"T_c5289f94_a267_11eb_9818_02420a394237row1_col2\" class=\"data row1 col2\" >0.099</td>\n",
       "                        <td id=\"T_c5289f94_a267_11eb_9818_02420a394237row1_col3\" class=\"data row1 col3\" >-0.22</td>\n",
       "            </tr>\n",
       "            <tr>\n",
       "                        <th id=\"T_c5289f94_a267_11eb_9818_02420a394237level0_row2\" class=\"row_heading level0 row2\" >power</th>\n",
       "                        <td id=\"T_c5289f94_a267_11eb_9818_02420a394237row2_col0\" class=\"data row2 col0\" >0.5</td>\n",
       "                        <td id=\"T_c5289f94_a267_11eb_9818_02420a394237row2_col1\" class=\"data row2 col1\" >0.099</td>\n",
       "                        <td id=\"T_c5289f94_a267_11eb_9818_02420a394237row2_col2\" class=\"data row2 col2\" >1</td>\n",
       "                        <td id=\"T_c5289f94_a267_11eb_9818_02420a394237row2_col3\" class=\"data row2 col3\" >0.097</td>\n",
       "            </tr>\n",
       "            <tr>\n",
       "                        <th id=\"T_c5289f94_a267_11eb_9818_02420a394237level0_row3\" class=\"row_heading level0 row3\" >kilometer</th>\n",
       "                        <td id=\"T_c5289f94_a267_11eb_9818_02420a394237row3_col0\" class=\"data row3 col0\" >-0.37</td>\n",
       "                        <td id=\"T_c5289f94_a267_11eb_9818_02420a394237row3_col1\" class=\"data row3 col1\" >-0.22</td>\n",
       "                        <td id=\"T_c5289f94_a267_11eb_9818_02420a394237row3_col2\" class=\"data row3 col2\" >0.097</td>\n",
       "                        <td id=\"T_c5289f94_a267_11eb_9818_02420a394237row3_col3\" class=\"data row3 col3\" >1</td>\n",
       "            </tr>\n",
       "    </tbody></table>"
      ],
      "text/plain": [
       "<pandas.io.formats.style.Styler at 0x7f6cea481050>"
      ]
     },
     "execution_count": 75,
     "metadata": {},
     "output_type": "execute_result"
    }
   ],
   "source": [
    "corr = df.corr()\n",
    "corr.style.background_gradient(cmap='coolwarm').set_precision(2)"
   ]
  },
  {
   "cell_type": "markdown",
   "metadata": {},
   "source": [
    "Закодируем категориальные признаки при помощи OHE"
   ]
  },
  {
   "cell_type": "code",
   "execution_count": 76,
   "metadata": {},
   "outputs": [],
   "source": [
    "def ohe_transform(df, column):\n",
    "    columns_transformed = pd.get_dummies(df[column], prefix=column, drop_first=True)\n",
    "    df = df.drop(column, axis=1)\n",
    "    return df.join(columns_transformed)"
   ]
  },
  {
   "cell_type": "markdown",
   "metadata": {},
   "source": [
    "Скопируем датасет под преобразование категориальных признаков для модели линейной регрессии"
   ]
  },
  {
   "cell_type": "code",
   "execution_count": 77,
   "metadata": {},
   "outputs": [],
   "source": [
    "df_new = df.copy()"
   ]
  },
  {
   "cell_type": "code",
   "execution_count": 78,
   "metadata": {},
   "outputs": [],
   "source": [
    "for point in ['vehicletype', 'gearbox', 'model', 'fueltype', 'brand', 'notrepaired']:\n",
    "    df_new = ohe_transform(df_new, point)"
   ]
  },
  {
   "cell_type": "code",
   "execution_count": 79,
   "metadata": {
    "scrolled": true
   },
   "outputs": [
    {
     "data": {
      "text/html": [
       "<div>\n",
       "<style scoped>\n",
       "    .dataframe tbody tr th:only-of-type {\n",
       "        vertical-align: middle;\n",
       "    }\n",
       "\n",
       "    .dataframe tbody tr th {\n",
       "        vertical-align: top;\n",
       "    }\n",
       "\n",
       "    .dataframe thead th {\n",
       "        text-align: right;\n",
       "    }\n",
       "</style>\n",
       "<table border=\"1\" class=\"dataframe\">\n",
       "  <thead>\n",
       "    <tr style=\"text-align: right;\">\n",
       "      <th></th>\n",
       "      <th>price</th>\n",
       "      <th>registrationyear</th>\n",
       "      <th>power</th>\n",
       "      <th>kilometer</th>\n",
       "      <th>vehicletype_convertible</th>\n",
       "      <th>vehicletype_coupe</th>\n",
       "      <th>vehicletype_other</th>\n",
       "      <th>vehicletype_sedan</th>\n",
       "      <th>vehicletype_small</th>\n",
       "      <th>vehicletype_suv</th>\n",
       "      <th>...</th>\n",
       "      <th>brand_skoda</th>\n",
       "      <th>brand_smart</th>\n",
       "      <th>brand_subaru</th>\n",
       "      <th>brand_suzuki</th>\n",
       "      <th>brand_toyota</th>\n",
       "      <th>brand_trabant</th>\n",
       "      <th>brand_volkswagen</th>\n",
       "      <th>brand_volvo</th>\n",
       "      <th>notrepaired_undefined</th>\n",
       "      <th>notrepaired_yes</th>\n",
       "    </tr>\n",
       "  </thead>\n",
       "  <tbody>\n",
       "    <tr>\n",
       "      <td>0</td>\n",
       "      <td>480</td>\n",
       "      <td>1993</td>\n",
       "      <td>101</td>\n",
       "      <td>150000</td>\n",
       "      <td>0</td>\n",
       "      <td>0</td>\n",
       "      <td>0</td>\n",
       "      <td>1</td>\n",
       "      <td>0</td>\n",
       "      <td>0</td>\n",
       "      <td>...</td>\n",
       "      <td>0</td>\n",
       "      <td>0</td>\n",
       "      <td>0</td>\n",
       "      <td>0</td>\n",
       "      <td>0</td>\n",
       "      <td>0</td>\n",
       "      <td>1</td>\n",
       "      <td>0</td>\n",
       "      <td>1</td>\n",
       "      <td>0</td>\n",
       "    </tr>\n",
       "    <tr>\n",
       "      <td>2</td>\n",
       "      <td>9800</td>\n",
       "      <td>2004</td>\n",
       "      <td>163</td>\n",
       "      <td>125000</td>\n",
       "      <td>0</td>\n",
       "      <td>0</td>\n",
       "      <td>0</td>\n",
       "      <td>0</td>\n",
       "      <td>0</td>\n",
       "      <td>1</td>\n",
       "      <td>...</td>\n",
       "      <td>0</td>\n",
       "      <td>0</td>\n",
       "      <td>0</td>\n",
       "      <td>0</td>\n",
       "      <td>0</td>\n",
       "      <td>0</td>\n",
       "      <td>0</td>\n",
       "      <td>0</td>\n",
       "      <td>1</td>\n",
       "      <td>0</td>\n",
       "    </tr>\n",
       "    <tr>\n",
       "      <td>3</td>\n",
       "      <td>1500</td>\n",
       "      <td>2001</td>\n",
       "      <td>75</td>\n",
       "      <td>150000</td>\n",
       "      <td>0</td>\n",
       "      <td>0</td>\n",
       "      <td>0</td>\n",
       "      <td>0</td>\n",
       "      <td>1</td>\n",
       "      <td>0</td>\n",
       "      <td>...</td>\n",
       "      <td>0</td>\n",
       "      <td>0</td>\n",
       "      <td>0</td>\n",
       "      <td>0</td>\n",
       "      <td>0</td>\n",
       "      <td>0</td>\n",
       "      <td>1</td>\n",
       "      <td>0</td>\n",
       "      <td>0</td>\n",
       "      <td>0</td>\n",
       "    </tr>\n",
       "    <tr>\n",
       "      <td>4</td>\n",
       "      <td>3600</td>\n",
       "      <td>2008</td>\n",
       "      <td>69</td>\n",
       "      <td>90000</td>\n",
       "      <td>0</td>\n",
       "      <td>0</td>\n",
       "      <td>0</td>\n",
       "      <td>0</td>\n",
       "      <td>1</td>\n",
       "      <td>0</td>\n",
       "      <td>...</td>\n",
       "      <td>1</td>\n",
       "      <td>0</td>\n",
       "      <td>0</td>\n",
       "      <td>0</td>\n",
       "      <td>0</td>\n",
       "      <td>0</td>\n",
       "      <td>0</td>\n",
       "      <td>0</td>\n",
       "      <td>0</td>\n",
       "      <td>0</td>\n",
       "    </tr>\n",
       "    <tr>\n",
       "      <td>5</td>\n",
       "      <td>650</td>\n",
       "      <td>1995</td>\n",
       "      <td>102</td>\n",
       "      <td>150000</td>\n",
       "      <td>0</td>\n",
       "      <td>0</td>\n",
       "      <td>0</td>\n",
       "      <td>1</td>\n",
       "      <td>0</td>\n",
       "      <td>0</td>\n",
       "      <td>...</td>\n",
       "      <td>0</td>\n",
       "      <td>0</td>\n",
       "      <td>0</td>\n",
       "      <td>0</td>\n",
       "      <td>0</td>\n",
       "      <td>0</td>\n",
       "      <td>0</td>\n",
       "      <td>0</td>\n",
       "      <td>0</td>\n",
       "      <td>1</td>\n",
       "    </tr>\n",
       "  </tbody>\n",
       "</table>\n",
       "<p>5 rows × 306 columns</p>\n",
       "</div>"
      ],
      "text/plain": [
       "   price  registrationyear  power  kilometer  vehicletype_convertible  \\\n",
       "0    480              1993    101     150000                        0   \n",
       "2   9800              2004    163     125000                        0   \n",
       "3   1500              2001     75     150000                        0   \n",
       "4   3600              2008     69      90000                        0   \n",
       "5    650              1995    102     150000                        0   \n",
       "\n",
       "   vehicletype_coupe  vehicletype_other  vehicletype_sedan  vehicletype_small  \\\n",
       "0                  0                  0                  1                  0   \n",
       "2                  0                  0                  0                  0   \n",
       "3                  0                  0                  0                  1   \n",
       "4                  0                  0                  0                  1   \n",
       "5                  0                  0                  1                  0   \n",
       "\n",
       "   vehicletype_suv  ...  brand_skoda  brand_smart  brand_subaru  brand_suzuki  \\\n",
       "0                0  ...            0            0             0             0   \n",
       "2                1  ...            0            0             0             0   \n",
       "3                0  ...            0            0             0             0   \n",
       "4                0  ...            1            0             0             0   \n",
       "5                0  ...            0            0             0             0   \n",
       "\n",
       "   brand_toyota  brand_trabant  brand_volkswagen  brand_volvo  \\\n",
       "0             0              0                 1            0   \n",
       "2             0              0                 0            0   \n",
       "3             0              0                 1            0   \n",
       "4             0              0                 0            0   \n",
       "5             0              0                 0            0   \n",
       "\n",
       "   notrepaired_undefined  notrepaired_yes  \n",
       "0                      1                0  \n",
       "2                      1                0  \n",
       "3                      0                0  \n",
       "4                      0                0  \n",
       "5                      0                1  \n",
       "\n",
       "[5 rows x 306 columns]"
      ]
     },
     "execution_count": 79,
     "metadata": {},
     "output_type": "execute_result"
    }
   ],
   "source": [
    "df_new.head()"
   ]
  },
  {
   "cell_type": "code",
   "execution_count": 80,
   "metadata": {},
   "outputs": [
    {
     "data": {
      "text/plain": [
       "(325987, 306)"
      ]
     },
     "execution_count": 80,
     "metadata": {},
     "output_type": "execute_result"
    }
   ],
   "source": [
    "df_new.shape"
   ]
  },
  {
   "cell_type": "markdown",
   "metadata": {},
   "source": [
    "Подготовим выборки. Целевой признак *price*"
   ]
  },
  {
   "cell_type": "code",
   "execution_count": 81,
   "metadata": {},
   "outputs": [],
   "source": [
    "features = df_new.drop('price', axis=1)\n",
    "target = df_new['price']"
   ]
  },
  {
   "cell_type": "code",
   "execution_count": 82,
   "metadata": {},
   "outputs": [],
   "source": [
    "features_train, features_test, target_train, target_test = train_test_split(features, target, test_size=0.2, random_state=12345)"
   ]
  },
  {
   "cell_type": "markdown",
   "metadata": {},
   "source": [
    "Задействуя **StandardScaler()**, отмасштабируем признаки"
   ]
  },
  {
   "cell_type": "code",
   "execution_count": 83,
   "metadata": {},
   "outputs": [],
   "source": [
    "ss = StandardScaler()\n",
    "ss.fit(features_train)\n",
    "columns = features_train.columns\n",
    "features_train = pd.DataFrame(ss.transform(features_train), columns = columns)\n",
    "features_test = pd.DataFrame(ss.transform(features_test), columns = columns)"
   ]
  },
  {
   "cell_type": "code",
   "execution_count": 84,
   "metadata": {},
   "outputs": [
    {
     "data": {
      "text/html": [
       "<div>\n",
       "<style scoped>\n",
       "    .dataframe tbody tr th:only-of-type {\n",
       "        vertical-align: middle;\n",
       "    }\n",
       "\n",
       "    .dataframe tbody tr th {\n",
       "        vertical-align: top;\n",
       "    }\n",
       "\n",
       "    .dataframe thead th {\n",
       "        text-align: right;\n",
       "    }\n",
       "</style>\n",
       "<table border=\"1\" class=\"dataframe\">\n",
       "  <thead>\n",
       "    <tr style=\"text-align: right;\">\n",
       "      <th></th>\n",
       "      <th>registrationyear</th>\n",
       "      <th>power</th>\n",
       "      <th>kilometer</th>\n",
       "      <th>vehicletype_convertible</th>\n",
       "      <th>vehicletype_coupe</th>\n",
       "      <th>vehicletype_other</th>\n",
       "      <th>vehicletype_sedan</th>\n",
       "      <th>vehicletype_small</th>\n",
       "      <th>vehicletype_suv</th>\n",
       "      <th>vehicletype_wagon</th>\n",
       "      <th>...</th>\n",
       "      <th>brand_skoda</th>\n",
       "      <th>brand_smart</th>\n",
       "      <th>brand_subaru</th>\n",
       "      <th>brand_suzuki</th>\n",
       "      <th>brand_toyota</th>\n",
       "      <th>brand_trabant</th>\n",
       "      <th>brand_volkswagen</th>\n",
       "      <th>brand_volvo</th>\n",
       "      <th>notrepaired_undefined</th>\n",
       "      <th>notrepaired_yes</th>\n",
       "    </tr>\n",
       "  </thead>\n",
       "  <tbody>\n",
       "    <tr>\n",
       "      <td>0</td>\n",
       "      <td>0.808769</td>\n",
       "      <td>0.449160</td>\n",
       "      <td>-1.851513</td>\n",
       "      <td>-0.25086</td>\n",
       "      <td>4.549115</td>\n",
       "      <td>-0.090466</td>\n",
       "      <td>-0.662033</td>\n",
       "      <td>-0.584764</td>\n",
       "      <td>-0.191367</td>\n",
       "      <td>-0.497711</td>\n",
       "      <td>...</td>\n",
       "      <td>-0.128988</td>\n",
       "      <td>-0.124157</td>\n",
       "      <td>-0.046264</td>\n",
       "      <td>-0.082193</td>\n",
       "      <td>-0.116566</td>\n",
       "      <td>-0.036078</td>\n",
       "      <td>-0.529533</td>\n",
       "      <td>-0.096982</td>\n",
       "      <td>-0.465018</td>\n",
       "      <td>-0.329472</td>\n",
       "    </tr>\n",
       "    <tr>\n",
       "      <td>1</td>\n",
       "      <td>-0.747149</td>\n",
       "      <td>0.223762</td>\n",
       "      <td>0.580032</td>\n",
       "      <td>-0.25086</td>\n",
       "      <td>-0.219823</td>\n",
       "      <td>-0.090466</td>\n",
       "      <td>1.510498</td>\n",
       "      <td>-0.584764</td>\n",
       "      <td>-0.191367</td>\n",
       "      <td>-0.497711</td>\n",
       "      <td>...</td>\n",
       "      <td>-0.128988</td>\n",
       "      <td>-0.124157</td>\n",
       "      <td>-0.046264</td>\n",
       "      <td>-0.082193</td>\n",
       "      <td>-0.116566</td>\n",
       "      <td>-0.036078</td>\n",
       "      <td>1.888458</td>\n",
       "      <td>-0.096982</td>\n",
       "      <td>2.150454</td>\n",
       "      <td>-0.329472</td>\n",
       "    </tr>\n",
       "    <tr>\n",
       "      <td>2</td>\n",
       "      <td>1.233110</td>\n",
       "      <td>0.054714</td>\n",
       "      <td>-1.581341</td>\n",
       "      <td>-0.25086</td>\n",
       "      <td>-0.219823</td>\n",
       "      <td>-0.090466</td>\n",
       "      <td>-0.662033</td>\n",
       "      <td>1.710091</td>\n",
       "      <td>-0.191367</td>\n",
       "      <td>-0.497711</td>\n",
       "      <td>...</td>\n",
       "      <td>-0.128988</td>\n",
       "      <td>-0.124157</td>\n",
       "      <td>-0.046264</td>\n",
       "      <td>-0.082193</td>\n",
       "      <td>-0.116566</td>\n",
       "      <td>-0.036078</td>\n",
       "      <td>-0.529533</td>\n",
       "      <td>-0.096982</td>\n",
       "      <td>-0.465018</td>\n",
       "      <td>-0.329472</td>\n",
       "    </tr>\n",
       "    <tr>\n",
       "      <td>3</td>\n",
       "      <td>1.091663</td>\n",
       "      <td>1.726416</td>\n",
       "      <td>-1.581341</td>\n",
       "      <td>-0.25086</td>\n",
       "      <td>-0.219823</td>\n",
       "      <td>-0.090466</td>\n",
       "      <td>-0.662033</td>\n",
       "      <td>1.710091</td>\n",
       "      <td>-0.191367</td>\n",
       "      <td>-0.497711</td>\n",
       "      <td>...</td>\n",
       "      <td>-0.128988</td>\n",
       "      <td>-0.124157</td>\n",
       "      <td>-0.046264</td>\n",
       "      <td>-0.082193</td>\n",
       "      <td>-0.116566</td>\n",
       "      <td>-0.036078</td>\n",
       "      <td>-0.529533</td>\n",
       "      <td>-0.096982</td>\n",
       "      <td>-0.465018</td>\n",
       "      <td>-0.329472</td>\n",
       "    </tr>\n",
       "    <tr>\n",
       "      <td>4</td>\n",
       "      <td>0.384428</td>\n",
       "      <td>-0.452432</td>\n",
       "      <td>-1.581341</td>\n",
       "      <td>-0.25086</td>\n",
       "      <td>-0.219823</td>\n",
       "      <td>-0.090466</td>\n",
       "      <td>1.510498</td>\n",
       "      <td>-0.584764</td>\n",
       "      <td>-0.191367</td>\n",
       "      <td>-0.497711</td>\n",
       "      <td>...</td>\n",
       "      <td>-0.128988</td>\n",
       "      <td>-0.124157</td>\n",
       "      <td>-0.046264</td>\n",
       "      <td>-0.082193</td>\n",
       "      <td>-0.116566</td>\n",
       "      <td>-0.036078</td>\n",
       "      <td>-0.529533</td>\n",
       "      <td>-0.096982</td>\n",
       "      <td>-0.465018</td>\n",
       "      <td>-0.329472</td>\n",
       "    </tr>\n",
       "  </tbody>\n",
       "</table>\n",
       "<p>5 rows × 305 columns</p>\n",
       "</div>"
      ],
      "text/plain": [
       "   registrationyear     power  kilometer  vehicletype_convertible  \\\n",
       "0          0.808769  0.449160  -1.851513                 -0.25086   \n",
       "1         -0.747149  0.223762   0.580032                 -0.25086   \n",
       "2          1.233110  0.054714  -1.581341                 -0.25086   \n",
       "3          1.091663  1.726416  -1.581341                 -0.25086   \n",
       "4          0.384428 -0.452432  -1.581341                 -0.25086   \n",
       "\n",
       "   vehicletype_coupe  vehicletype_other  vehicletype_sedan  vehicletype_small  \\\n",
       "0           4.549115          -0.090466          -0.662033          -0.584764   \n",
       "1          -0.219823          -0.090466           1.510498          -0.584764   \n",
       "2          -0.219823          -0.090466          -0.662033           1.710091   \n",
       "3          -0.219823          -0.090466          -0.662033           1.710091   \n",
       "4          -0.219823          -0.090466           1.510498          -0.584764   \n",
       "\n",
       "   vehicletype_suv  vehicletype_wagon  ...  brand_skoda  brand_smart  \\\n",
       "0        -0.191367          -0.497711  ...    -0.128988    -0.124157   \n",
       "1        -0.191367          -0.497711  ...    -0.128988    -0.124157   \n",
       "2        -0.191367          -0.497711  ...    -0.128988    -0.124157   \n",
       "3        -0.191367          -0.497711  ...    -0.128988    -0.124157   \n",
       "4        -0.191367          -0.497711  ...    -0.128988    -0.124157   \n",
       "\n",
       "   brand_subaru  brand_suzuki  brand_toyota  brand_trabant  brand_volkswagen  \\\n",
       "0     -0.046264     -0.082193     -0.116566      -0.036078         -0.529533   \n",
       "1     -0.046264     -0.082193     -0.116566      -0.036078          1.888458   \n",
       "2     -0.046264     -0.082193     -0.116566      -0.036078         -0.529533   \n",
       "3     -0.046264     -0.082193     -0.116566      -0.036078         -0.529533   \n",
       "4     -0.046264     -0.082193     -0.116566      -0.036078         -0.529533   \n",
       "\n",
       "   brand_volvo  notrepaired_undefined  notrepaired_yes  \n",
       "0    -0.096982              -0.465018        -0.329472  \n",
       "1    -0.096982               2.150454        -0.329472  \n",
       "2    -0.096982              -0.465018        -0.329472  \n",
       "3    -0.096982              -0.465018        -0.329472  \n",
       "4    -0.096982              -0.465018        -0.329472  \n",
       "\n",
       "[5 rows x 305 columns]"
      ]
     },
     "execution_count": 84,
     "metadata": {},
     "output_type": "execute_result"
    }
   ],
   "source": [
    "features_train.head()"
   ]
  },
  {
   "cell_type": "code",
   "execution_count": 85,
   "metadata": {},
   "outputs": [
    {
     "data": {
      "text/html": [
       "<div>\n",
       "<style scoped>\n",
       "    .dataframe tbody tr th:only-of-type {\n",
       "        vertical-align: middle;\n",
       "    }\n",
       "\n",
       "    .dataframe tbody tr th {\n",
       "        vertical-align: top;\n",
       "    }\n",
       "\n",
       "    .dataframe thead th {\n",
       "        text-align: right;\n",
       "    }\n",
       "</style>\n",
       "<table border=\"1\" class=\"dataframe\">\n",
       "  <thead>\n",
       "    <tr style=\"text-align: right;\">\n",
       "      <th></th>\n",
       "      <th>registrationyear</th>\n",
       "      <th>power</th>\n",
       "      <th>kilometer</th>\n",
       "      <th>vehicletype_convertible</th>\n",
       "      <th>vehicletype_coupe</th>\n",
       "      <th>vehicletype_other</th>\n",
       "      <th>vehicletype_sedan</th>\n",
       "      <th>vehicletype_small</th>\n",
       "      <th>vehicletype_suv</th>\n",
       "      <th>vehicletype_wagon</th>\n",
       "      <th>...</th>\n",
       "      <th>brand_skoda</th>\n",
       "      <th>brand_smart</th>\n",
       "      <th>brand_subaru</th>\n",
       "      <th>brand_suzuki</th>\n",
       "      <th>brand_toyota</th>\n",
       "      <th>brand_trabant</th>\n",
       "      <th>brand_volkswagen</th>\n",
       "      <th>brand_volvo</th>\n",
       "      <th>notrepaired_undefined</th>\n",
       "      <th>notrepaired_yes</th>\n",
       "    </tr>\n",
       "  </thead>\n",
       "  <tbody>\n",
       "    <tr>\n",
       "      <td>0</td>\n",
       "      <td>-0.181360</td>\n",
       "      <td>-0.828095</td>\n",
       "      <td>-0.095397</td>\n",
       "      <td>-0.25086</td>\n",
       "      <td>-0.219823</td>\n",
       "      <td>-0.090466</td>\n",
       "      <td>-0.662033</td>\n",
       "      <td>-0.584764</td>\n",
       "      <td>-0.191367</td>\n",
       "      <td>2.009196</td>\n",
       "      <td>...</td>\n",
       "      <td>7.752634</td>\n",
       "      <td>-0.124157</td>\n",
       "      <td>-0.046264</td>\n",
       "      <td>-0.082193</td>\n",
       "      <td>-0.116566</td>\n",
       "      <td>-0.036078</td>\n",
       "      <td>-0.529533</td>\n",
       "      <td>-0.096982</td>\n",
       "      <td>-0.465018</td>\n",
       "      <td>-0.329472</td>\n",
       "    </tr>\n",
       "    <tr>\n",
       "      <td>1</td>\n",
       "      <td>0.101534</td>\n",
       "      <td>2.872190</td>\n",
       "      <td>0.580032</td>\n",
       "      <td>-0.25086</td>\n",
       "      <td>-0.219823</td>\n",
       "      <td>-0.090466</td>\n",
       "      <td>1.510498</td>\n",
       "      <td>-0.584764</td>\n",
       "      <td>-0.191367</td>\n",
       "      <td>-0.497711</td>\n",
       "      <td>...</td>\n",
       "      <td>-0.128988</td>\n",
       "      <td>-0.124157</td>\n",
       "      <td>-0.046264</td>\n",
       "      <td>-0.082193</td>\n",
       "      <td>-0.116566</td>\n",
       "      <td>-0.036078</td>\n",
       "      <td>-0.529533</td>\n",
       "      <td>-0.096982</td>\n",
       "      <td>2.150454</td>\n",
       "      <td>-0.329472</td>\n",
       "    </tr>\n",
       "    <tr>\n",
       "      <td>2</td>\n",
       "      <td>-1.312937</td>\n",
       "      <td>-0.320950</td>\n",
       "      <td>0.580032</td>\n",
       "      <td>-0.25086</td>\n",
       "      <td>-0.219823</td>\n",
       "      <td>-0.090466</td>\n",
       "      <td>-0.662033</td>\n",
       "      <td>1.710091</td>\n",
       "      <td>-0.191367</td>\n",
       "      <td>-0.497711</td>\n",
       "      <td>...</td>\n",
       "      <td>-0.128988</td>\n",
       "      <td>-0.124157</td>\n",
       "      <td>-0.046264</td>\n",
       "      <td>-0.082193</td>\n",
       "      <td>-0.116566</td>\n",
       "      <td>-0.036078</td>\n",
       "      <td>-0.529533</td>\n",
       "      <td>-0.096982</td>\n",
       "      <td>-0.465018</td>\n",
       "      <td>-0.329472</td>\n",
       "    </tr>\n",
       "    <tr>\n",
       "      <td>3</td>\n",
       "      <td>1.940346</td>\n",
       "      <td>-0.057985</td>\n",
       "      <td>0.580032</td>\n",
       "      <td>-0.25086</td>\n",
       "      <td>-0.219823</td>\n",
       "      <td>-0.090466</td>\n",
       "      <td>1.510498</td>\n",
       "      <td>-0.584764</td>\n",
       "      <td>-0.191367</td>\n",
       "      <td>-0.497711</td>\n",
       "      <td>...</td>\n",
       "      <td>-0.128988</td>\n",
       "      <td>-0.124157</td>\n",
       "      <td>-0.046264</td>\n",
       "      <td>-0.082193</td>\n",
       "      <td>-0.116566</td>\n",
       "      <td>-0.036078</td>\n",
       "      <td>-0.529533</td>\n",
       "      <td>-0.096982</td>\n",
       "      <td>-0.465018</td>\n",
       "      <td>-0.329472</td>\n",
       "    </tr>\n",
       "    <tr>\n",
       "      <td>4</td>\n",
       "      <td>0.667322</td>\n",
       "      <td>1.125355</td>\n",
       "      <td>0.580032</td>\n",
       "      <td>-0.25086</td>\n",
       "      <td>-0.219823</td>\n",
       "      <td>-0.090466</td>\n",
       "      <td>-0.662033</td>\n",
       "      <td>-0.584764</td>\n",
       "      <td>-0.191367</td>\n",
       "      <td>2.009196</td>\n",
       "      <td>...</td>\n",
       "      <td>-0.128988</td>\n",
       "      <td>-0.124157</td>\n",
       "      <td>-0.046264</td>\n",
       "      <td>-0.082193</td>\n",
       "      <td>-0.116566</td>\n",
       "      <td>-0.036078</td>\n",
       "      <td>-0.529533</td>\n",
       "      <td>-0.096982</td>\n",
       "      <td>-0.465018</td>\n",
       "      <td>-0.329472</td>\n",
       "    </tr>\n",
       "  </tbody>\n",
       "</table>\n",
       "<p>5 rows × 305 columns</p>\n",
       "</div>"
      ],
      "text/plain": [
       "   registrationyear     power  kilometer  vehicletype_convertible  \\\n",
       "0         -0.181360 -0.828095  -0.095397                 -0.25086   \n",
       "1          0.101534  2.872190   0.580032                 -0.25086   \n",
       "2         -1.312937 -0.320950   0.580032                 -0.25086   \n",
       "3          1.940346 -0.057985   0.580032                 -0.25086   \n",
       "4          0.667322  1.125355   0.580032                 -0.25086   \n",
       "\n",
       "   vehicletype_coupe  vehicletype_other  vehicletype_sedan  vehicletype_small  \\\n",
       "0          -0.219823          -0.090466          -0.662033          -0.584764   \n",
       "1          -0.219823          -0.090466           1.510498          -0.584764   \n",
       "2          -0.219823          -0.090466          -0.662033           1.710091   \n",
       "3          -0.219823          -0.090466           1.510498          -0.584764   \n",
       "4          -0.219823          -0.090466          -0.662033          -0.584764   \n",
       "\n",
       "   vehicletype_suv  vehicletype_wagon  ...  brand_skoda  brand_smart  \\\n",
       "0        -0.191367           2.009196  ...     7.752634    -0.124157   \n",
       "1        -0.191367          -0.497711  ...    -0.128988    -0.124157   \n",
       "2        -0.191367          -0.497711  ...    -0.128988    -0.124157   \n",
       "3        -0.191367          -0.497711  ...    -0.128988    -0.124157   \n",
       "4        -0.191367           2.009196  ...    -0.128988    -0.124157   \n",
       "\n",
       "   brand_subaru  brand_suzuki  brand_toyota  brand_trabant  brand_volkswagen  \\\n",
       "0     -0.046264     -0.082193     -0.116566      -0.036078         -0.529533   \n",
       "1     -0.046264     -0.082193     -0.116566      -0.036078         -0.529533   \n",
       "2     -0.046264     -0.082193     -0.116566      -0.036078         -0.529533   \n",
       "3     -0.046264     -0.082193     -0.116566      -0.036078         -0.529533   \n",
       "4     -0.046264     -0.082193     -0.116566      -0.036078         -0.529533   \n",
       "\n",
       "   brand_volvo  notrepaired_undefined  notrepaired_yes  \n",
       "0    -0.096982              -0.465018        -0.329472  \n",
       "1    -0.096982               2.150454        -0.329472  \n",
       "2    -0.096982              -0.465018        -0.329472  \n",
       "3    -0.096982              -0.465018        -0.329472  \n",
       "4    -0.096982              -0.465018        -0.329472  \n",
       "\n",
       "[5 rows x 305 columns]"
      ]
     },
     "execution_count": 85,
     "metadata": {},
     "output_type": "execute_result"
    }
   ],
   "source": [
    "features_test.head()"
   ]
  },
  {
   "cell_type": "markdown",
   "metadata": {},
   "source": [
    "#### Вывод"
   ]
  },
  {
   "cell_type": "markdown",
   "metadata": {},
   "source": [
    "- были изучены данные и их распределение\n",
    "- удалены дубликаты, обработаны пропущенные значения, отброшены нереалистичные значения\n",
    "- удалены признаки, непригодные для обучения моделей\n",
    "- закодированы категориальные признаки\n",
    "- данные разделены на обучающую и тестовую выборки\n",
    "- проведено их масштабирование"
   ]
  },
  {
   "cell_type": "markdown",
   "metadata": {},
   "source": [
    "## Обучение моделей"
   ]
  },
  {
   "cell_type": "markdown",
   "metadata": {},
   "source": [
    "Начнем с линейной регрессии"
   ]
  },
  {
   "cell_type": "code",
   "execution_count": 86,
   "metadata": {
    "scrolled": false
   },
   "outputs": [
    {
     "name": "stdout",
     "output_type": "stream",
     "text": [
      "RMSE для линейной модели на тестовой выборке: 2713.2107121800545\n",
      "CPU times: user 22.7 s, sys: 8.03 s, total: 30.8 s\n",
      "Wall time: 30.7 s\n"
     ]
    }
   ],
   "source": [
    "%%time\n",
    "lr_model = LinearRegression()\n",
    "lr_model.fit(features_train, target_train)\n",
    "predictions_lr_model = lr_model.predict(features_test)\n",
    "mse_lr_model = mean_squared_error(target_test, predictions_lr_model)\n",
    "print(f\"RMSE для линейной модели на тестовой выборке: {(mse_lr_model) ** 0.5}\")"
   ]
  },
  {
   "cell_type": "markdown",
   "metadata": {},
   "source": [
    "**CatBoostRegressor**"
   ]
  },
  {
   "cell_type": "code",
   "execution_count": 87,
   "metadata": {},
   "outputs": [
    {
     "data": {
      "text/html": [
       "<div>\n",
       "<style scoped>\n",
       "    .dataframe tbody tr th:only-of-type {\n",
       "        vertical-align: middle;\n",
       "    }\n",
       "\n",
       "    .dataframe tbody tr th {\n",
       "        vertical-align: top;\n",
       "    }\n",
       "\n",
       "    .dataframe thead th {\n",
       "        text-align: right;\n",
       "    }\n",
       "</style>\n",
       "<table border=\"1\" class=\"dataframe\">\n",
       "  <thead>\n",
       "    <tr style=\"text-align: right;\">\n",
       "      <th></th>\n",
       "      <th>price</th>\n",
       "      <th>vehicletype</th>\n",
       "      <th>registrationyear</th>\n",
       "      <th>gearbox</th>\n",
       "      <th>power</th>\n",
       "      <th>model</th>\n",
       "      <th>kilometer</th>\n",
       "      <th>fueltype</th>\n",
       "      <th>brand</th>\n",
       "      <th>notrepaired</th>\n",
       "    </tr>\n",
       "  </thead>\n",
       "  <tbody>\n",
       "    <tr>\n",
       "      <td>0</td>\n",
       "      <td>480</td>\n",
       "      <td>sedan</td>\n",
       "      <td>1993</td>\n",
       "      <td>manual</td>\n",
       "      <td>101</td>\n",
       "      <td>golf</td>\n",
       "      <td>150000</td>\n",
       "      <td>petrol</td>\n",
       "      <td>volkswagen</td>\n",
       "      <td>undefined</td>\n",
       "    </tr>\n",
       "    <tr>\n",
       "      <td>2</td>\n",
       "      <td>9800</td>\n",
       "      <td>suv</td>\n",
       "      <td>2004</td>\n",
       "      <td>auto</td>\n",
       "      <td>163</td>\n",
       "      <td>grand</td>\n",
       "      <td>125000</td>\n",
       "      <td>gasoline</td>\n",
       "      <td>jeep</td>\n",
       "      <td>undefined</td>\n",
       "    </tr>\n",
       "    <tr>\n",
       "      <td>3</td>\n",
       "      <td>1500</td>\n",
       "      <td>small</td>\n",
       "      <td>2001</td>\n",
       "      <td>manual</td>\n",
       "      <td>75</td>\n",
       "      <td>golf</td>\n",
       "      <td>150000</td>\n",
       "      <td>petrol</td>\n",
       "      <td>volkswagen</td>\n",
       "      <td>no</td>\n",
       "    </tr>\n",
       "    <tr>\n",
       "      <td>4</td>\n",
       "      <td>3600</td>\n",
       "      <td>small</td>\n",
       "      <td>2008</td>\n",
       "      <td>manual</td>\n",
       "      <td>69</td>\n",
       "      <td>fabia</td>\n",
       "      <td>90000</td>\n",
       "      <td>gasoline</td>\n",
       "      <td>skoda</td>\n",
       "      <td>no</td>\n",
       "    </tr>\n",
       "    <tr>\n",
       "      <td>5</td>\n",
       "      <td>650</td>\n",
       "      <td>sedan</td>\n",
       "      <td>1995</td>\n",
       "      <td>manual</td>\n",
       "      <td>102</td>\n",
       "      <td>3er</td>\n",
       "      <td>150000</td>\n",
       "      <td>petrol</td>\n",
       "      <td>bmw</td>\n",
       "      <td>yes</td>\n",
       "    </tr>\n",
       "  </tbody>\n",
       "</table>\n",
       "</div>"
      ],
      "text/plain": [
       "   price vehicletype  registrationyear gearbox  power  model  kilometer  \\\n",
       "0    480       sedan              1993  manual    101   golf     150000   \n",
       "2   9800         suv              2004    auto    163  grand     125000   \n",
       "3   1500       small              2001  manual     75   golf     150000   \n",
       "4   3600       small              2008  manual     69  fabia      90000   \n",
       "5    650       sedan              1995  manual    102    3er     150000   \n",
       "\n",
       "   fueltype       brand notrepaired  \n",
       "0    petrol  volkswagen   undefined  \n",
       "2  gasoline        jeep   undefined  \n",
       "3    petrol  volkswagen          no  \n",
       "4  gasoline       skoda          no  \n",
       "5    petrol         bmw         yes  "
      ]
     },
     "execution_count": 87,
     "metadata": {},
     "output_type": "execute_result"
    }
   ],
   "source": [
    "df.head()"
   ]
  },
  {
   "cell_type": "code",
   "execution_count": 97,
   "metadata": {},
   "outputs": [],
   "source": [
    "num_features = ['price', 'registrationyear', 'power', 'kilometer']\n",
    "cat_features = ['vehicletype', 'gearbox', 'model', 'fueltype', 'notrepaired', 'brand']"
   ]
  },
  {
   "cell_type": "code",
   "execution_count": 98,
   "metadata": {},
   "outputs": [],
   "source": [
    "features_ = df.drop(['price'],axis=1)\n",
    "target_ = df['price']\n",
    "\n",
    "features__train, features__test, target__train, target__test = train_test_split(features_, target_, test_size=0.2, random_state=12345)"
   ]
  },
  {
   "cell_type": "code",
   "execution_count": 99,
   "metadata": {},
   "outputs": [],
   "source": [
    "cb_model = CatBoostRegressor(cat_features=cat_features)"
   ]
  },
  {
   "cell_type": "code",
   "execution_count": 100,
   "metadata": {},
   "outputs": [
    {
     "name": "stdout",
     "output_type": "stream",
     "text": [
      "0:\tlearn: 4447.9263685\ttest: 4435.7629102\tbest: 4435.7629102 (0)\ttotal: 1.13s\tremaining: 18m 48s\n",
      "200:\tlearn: 1867.9444784\ttest: 1866.7953245\tbest: 1866.7953245 (200)\ttotal: 2m 46s\tremaining: 11m\n",
      "400:\tlearn: 1778.8882971\ttest: 1783.8348817\tbest: 1783.8348817 (400)\ttotal: 5m 31s\tremaining: 8m 15s\n",
      "600:\tlearn: 1736.2574721\ttest: 1746.7797200\tbest: 1746.7797200 (600)\ttotal: 8m 21s\tremaining: 5m 32s\n",
      "800:\tlearn: 1705.8205234\ttest: 1721.7731466\tbest: 1721.7731466 (800)\ttotal: 11m 1s\tremaining: 2m 44s\n",
      "999:\tlearn: 1685.6227545\ttest: 1705.5220343\tbest: 1705.5220343 (999)\ttotal: 13m 50s\tremaining: 0us\n",
      "\n",
      "bestTest = 1705.522034\n",
      "bestIteration = 999\n",
      "\n",
      "CPU times: user 12min 43s, sys: 1min 8s, total: 13min 52s\n",
      "Wall time: 13min 58s\n"
     ]
    },
    {
     "data": {
      "text/plain": [
       "<catboost.core.CatBoostRegressor at 0x7f6ce9ec2bd0>"
      ]
     },
     "execution_count": 100,
     "metadata": {},
     "output_type": "execute_result"
    }
   ],
   "source": [
    "%%time\n",
    "cb_model.fit(features__train, target__train, eval_set=(features__test, target__test), verbose=200)"
   ]
  },
  {
   "cell_type": "code",
   "execution_count": 101,
   "metadata": {},
   "outputs": [
    {
     "name": "stdout",
     "output_type": "stream",
     "text": [
      "RMSE для модели CatBoostRegressor на тестовой выборке: 1705.5220342707225\n"
     ]
    }
   ],
   "source": [
    "predictions_cb_model = cb_model.predict(features__test)\n",
    "mse_cb_model = mean_squared_error(target__test, predictions_cb_model)\n",
    "print(f\"RMSE для модели CatBoostRegressor на тестовой выборке: {(mse_cb_model) ** 0.5}\")"
   ]
  },
  {
   "cell_type": "markdown",
   "metadata": {},
   "source": [
    "Переходим к градиентному бустингу **LightGBM**"
   ]
  },
  {
   "cell_type": "markdown",
   "metadata": {
    "scrolled": true
   },
   "source": [
    "Как выяснилось, он тоже временами требует определенного кодирования, нашел мини-шаблон с kaggle для этого случая"
   ]
  },
  {
   "cell_type": "code",
   "execution_count": 119,
   "metadata": {},
   "outputs": [],
   "source": [
    "labelencoder = LabelEncoder()\n",
    "\n",
    "for col in cat_features:\n",
    "    df[col] = labelencoder.fit_transform(df[col])\n",
    "\n",
    "for col in cat_features:\n",
    "    df[col] = df[col].astype('int')\n",
    "    \n",
    "\n",
    "y = df[[\"price\"]]\n",
    "X = df.drop([\"price\"], axis=1)\n",
    "\n",
    "features___train, features___test, target___train, target___test = train_test_split(X, y, random_state = 12345)    \n",
    "\n",
    "train_data = lgb.Dataset(features___train, \n",
    "                         label=target___train, \n",
    "                         categorical_feature=['vehicletype', 'gearbox', 'model', 'fueltype', 'notrepaired', 'brand'], \n",
    "                         free_raw_data=False)\n",
    "test_data = lgb.Dataset(features___test, \n",
    "                        label=target_test, \n",
    "                        categorical_feature=['vehicletype', 'gearbox', 'model', 'fueltype', 'notrepaired', 'brand'], \n",
    "                        free_raw_data=False)"
   ]
  },
  {
   "cell_type": "code",
   "execution_count": 120,
   "metadata": {},
   "outputs": [],
   "source": [
    "gbm_model = lgb.LGBMRegressor()"
   ]
  },
  {
   "cell_type": "code",
   "execution_count": 121,
   "metadata": {
    "scrolled": false
   },
   "outputs": [
    {
     "name": "stdout",
     "output_type": "stream",
     "text": [
      "[1]\tvalid_0's rmse: 4204.2\tvalid_0's l2: 1.76753e+07\n",
      "[2]\tvalid_0's rmse: 3918.89\tvalid_0's l2: 1.53577e+07\n",
      "[3]\tvalid_0's rmse: 3670.08\tvalid_0's l2: 1.34695e+07\n",
      "[4]\tvalid_0's rmse: 3441.07\tvalid_0's l2: 1.1841e+07\n",
      "[5]\tvalid_0's rmse: 3245.22\tvalid_0's l2: 1.05315e+07\n",
      "[6]\tvalid_0's rmse: 3075.63\tvalid_0's l2: 9.45948e+06\n",
      "[7]\tvalid_0's rmse: 2923.76\tvalid_0's l2: 8.54837e+06\n",
      "[8]\tvalid_0's rmse: 2783.87\tvalid_0's l2: 7.74995e+06\n",
      "[9]\tvalid_0's rmse: 2666.41\tvalid_0's l2: 7.10973e+06\n",
      "[10]\tvalid_0's rmse: 2556.68\tvalid_0's l2: 6.53661e+06\n",
      "[11]\tvalid_0's rmse: 2463.23\tvalid_0's l2: 6.06752e+06\n",
      "[12]\tvalid_0's rmse: 2378.35\tvalid_0's l2: 5.65657e+06\n",
      "[13]\tvalid_0's rmse: 2307.08\tvalid_0's l2: 5.32263e+06\n",
      "[14]\tvalid_0's rmse: 2242.01\tvalid_0's l2: 5.02663e+06\n",
      "[15]\tvalid_0's rmse: 2182.9\tvalid_0's l2: 4.76507e+06\n",
      "[16]\tvalid_0's rmse: 2134.39\tvalid_0's l2: 4.55561e+06\n",
      "[17]\tvalid_0's rmse: 2090.03\tvalid_0's l2: 4.36822e+06\n",
      "[18]\tvalid_0's rmse: 2051.31\tvalid_0's l2: 4.20788e+06\n",
      "[19]\tvalid_0's rmse: 2016.5\tvalid_0's l2: 4.06629e+06\n",
      "[20]\tvalid_0's rmse: 1986.27\tvalid_0's l2: 3.94529e+06\n",
      "[21]\tvalid_0's rmse: 1958.93\tvalid_0's l2: 3.83741e+06\n",
      "[22]\tvalid_0's rmse: 1934.84\tvalid_0's l2: 3.74361e+06\n",
      "[23]\tvalid_0's rmse: 1911.08\tvalid_0's l2: 3.65223e+06\n",
      "[24]\tvalid_0's rmse: 1891.03\tvalid_0's l2: 3.576e+06\n",
      "[25]\tvalid_0's rmse: 1874.05\tvalid_0's l2: 3.51207e+06\n",
      "[26]\tvalid_0's rmse: 1858.13\tvalid_0's l2: 3.45265e+06\n",
      "[27]\tvalid_0's rmse: 1844.76\tvalid_0's l2: 3.40314e+06\n",
      "[28]\tvalid_0's rmse: 1832.41\tvalid_0's l2: 3.35772e+06\n",
      "[29]\tvalid_0's rmse: 1821.87\tvalid_0's l2: 3.31922e+06\n",
      "[30]\tvalid_0's rmse: 1812\tvalid_0's l2: 3.28336e+06\n",
      "[31]\tvalid_0's rmse: 1803.72\tvalid_0's l2: 3.2534e+06\n",
      "[32]\tvalid_0's rmse: 1795.23\tvalid_0's l2: 3.22286e+06\n",
      "[33]\tvalid_0's rmse: 1787.02\tvalid_0's l2: 3.19343e+06\n",
      "[34]\tvalid_0's rmse: 1781.11\tvalid_0's l2: 3.17237e+06\n",
      "[35]\tvalid_0's rmse: 1774.96\tvalid_0's l2: 3.15047e+06\n",
      "[36]\tvalid_0's rmse: 1769.27\tvalid_0's l2: 3.13031e+06\n",
      "[37]\tvalid_0's rmse: 1763.7\tvalid_0's l2: 3.11065e+06\n",
      "[38]\tvalid_0's rmse: 1759.05\tvalid_0's l2: 3.09425e+06\n",
      "[39]\tvalid_0's rmse: 1754.22\tvalid_0's l2: 3.0773e+06\n",
      "[40]\tvalid_0's rmse: 1749.75\tvalid_0's l2: 3.06164e+06\n",
      "[41]\tvalid_0's rmse: 1744.77\tvalid_0's l2: 3.04423e+06\n",
      "[42]\tvalid_0's rmse: 1741.06\tvalid_0's l2: 3.03131e+06\n",
      "[43]\tvalid_0's rmse: 1737.33\tvalid_0's l2: 3.01833e+06\n",
      "[44]\tvalid_0's rmse: 1734.16\tvalid_0's l2: 3.0073e+06\n",
      "[45]\tvalid_0's rmse: 1730.53\tvalid_0's l2: 2.99473e+06\n",
      "[46]\tvalid_0's rmse: 1727.04\tvalid_0's l2: 2.98267e+06\n",
      "[47]\tvalid_0's rmse: 1724.2\tvalid_0's l2: 2.97287e+06\n",
      "[48]\tvalid_0's rmse: 1721.32\tvalid_0's l2: 2.96296e+06\n",
      "[49]\tvalid_0's rmse: 1718.63\tvalid_0's l2: 2.95368e+06\n",
      "[50]\tvalid_0's rmse: 1716.04\tvalid_0's l2: 2.94479e+06\n",
      "[51]\tvalid_0's rmse: 1713.5\tvalid_0's l2: 2.93608e+06\n",
      "[52]\tvalid_0's rmse: 1711.36\tvalid_0's l2: 2.92876e+06\n",
      "[53]\tvalid_0's rmse: 1709.1\tvalid_0's l2: 2.92103e+06\n",
      "[54]\tvalid_0's rmse: 1706.4\tvalid_0's l2: 2.91178e+06\n",
      "[55]\tvalid_0's rmse: 1704.7\tvalid_0's l2: 2.90602e+06\n",
      "[56]\tvalid_0's rmse: 1702.76\tvalid_0's l2: 2.89941e+06\n",
      "[57]\tvalid_0's rmse: 1700.74\tvalid_0's l2: 2.89251e+06\n",
      "[58]\tvalid_0's rmse: 1699.03\tvalid_0's l2: 2.88669e+06\n",
      "[59]\tvalid_0's rmse: 1697.7\tvalid_0's l2: 2.88219e+06\n",
      "[60]\tvalid_0's rmse: 1696.27\tvalid_0's l2: 2.87732e+06\n",
      "[61]\tvalid_0's rmse: 1695.13\tvalid_0's l2: 2.87345e+06\n",
      "[62]\tvalid_0's rmse: 1693.47\tvalid_0's l2: 2.86784e+06\n",
      "[63]\tvalid_0's rmse: 1692.37\tvalid_0's l2: 2.86412e+06\n",
      "[64]\tvalid_0's rmse: 1691.49\tvalid_0's l2: 2.86114e+06\n",
      "[65]\tvalid_0's rmse: 1690.15\tvalid_0's l2: 2.85659e+06\n",
      "[66]\tvalid_0's rmse: 1688.53\tvalid_0's l2: 2.85113e+06\n",
      "[67]\tvalid_0's rmse: 1687.3\tvalid_0's l2: 2.84699e+06\n",
      "[68]\tvalid_0's rmse: 1685.85\tvalid_0's l2: 2.8421e+06\n",
      "[69]\tvalid_0's rmse: 1684.72\tvalid_0's l2: 2.83829e+06\n",
      "[70]\tvalid_0's rmse: 1683.35\tvalid_0's l2: 2.83365e+06\n",
      "[71]\tvalid_0's rmse: 1681.73\tvalid_0's l2: 2.82822e+06\n",
      "[72]\tvalid_0's rmse: 1680.99\tvalid_0's l2: 2.82572e+06\n",
      "[73]\tvalid_0's rmse: 1680.04\tvalid_0's l2: 2.82254e+06\n",
      "[74]\tvalid_0's rmse: 1679.33\tvalid_0's l2: 2.82016e+06\n",
      "[75]\tvalid_0's rmse: 1678.86\tvalid_0's l2: 2.81856e+06\n",
      "[76]\tvalid_0's rmse: 1677.56\tvalid_0's l2: 2.8142e+06\n",
      "[77]\tvalid_0's rmse: 1676.88\tvalid_0's l2: 2.81192e+06\n",
      "[78]\tvalid_0's rmse: 1676.27\tvalid_0's l2: 2.80987e+06\n",
      "[79]\tvalid_0's rmse: 1675.21\tvalid_0's l2: 2.80634e+06\n",
      "[80]\tvalid_0's rmse: 1674.66\tvalid_0's l2: 2.80448e+06\n",
      "[81]\tvalid_0's rmse: 1674.04\tvalid_0's l2: 2.80241e+06\n",
      "[82]\tvalid_0's rmse: 1672.86\tvalid_0's l2: 2.79846e+06\n",
      "[83]\tvalid_0's rmse: 1672.14\tvalid_0's l2: 2.79605e+06\n",
      "[84]\tvalid_0's rmse: 1671.67\tvalid_0's l2: 2.79448e+06\n",
      "[85]\tvalid_0's rmse: 1671.11\tvalid_0's l2: 2.79262e+06\n",
      "[86]\tvalid_0's rmse: 1670.39\tvalid_0's l2: 2.7902e+06\n",
      "[87]\tvalid_0's rmse: 1669.88\tvalid_0's l2: 2.78849e+06\n",
      "[88]\tvalid_0's rmse: 1669.19\tvalid_0's l2: 2.78618e+06\n",
      "[89]\tvalid_0's rmse: 1668.24\tvalid_0's l2: 2.78302e+06\n",
      "[90]\tvalid_0's rmse: 1666.73\tvalid_0's l2: 2.77798e+06\n",
      "[91]\tvalid_0's rmse: 1665.88\tvalid_0's l2: 2.77517e+06\n",
      "[92]\tvalid_0's rmse: 1665.05\tvalid_0's l2: 2.77239e+06\n",
      "[93]\tvalid_0's rmse: 1663.76\tvalid_0's l2: 2.76808e+06\n",
      "[94]\tvalid_0's rmse: 1662.57\tvalid_0's l2: 2.76414e+06\n",
      "[95]\tvalid_0's rmse: 1662.3\tvalid_0's l2: 2.76323e+06\n",
      "[96]\tvalid_0's rmse: 1661.56\tvalid_0's l2: 2.76078e+06\n",
      "[97]\tvalid_0's rmse: 1661.11\tvalid_0's l2: 2.7593e+06\n",
      "[98]\tvalid_0's rmse: 1660.69\tvalid_0's l2: 2.75791e+06\n",
      "[99]\tvalid_0's rmse: 1659.9\tvalid_0's l2: 2.75528e+06\n",
      "[100]\tvalid_0's rmse: 1659.39\tvalid_0's l2: 2.75357e+06\n",
      "CPU times: user 11 s, sys: 0 ns, total: 11 s\n",
      "Wall time: 11.1 s\n"
     ]
    },
    {
     "data": {
      "text/plain": [
       "LGBMRegressor(boosting_type='gbdt', class_weight=None, colsample_bytree=1.0,\n",
       "              importance_type='split', learning_rate=0.1, max_depth=-1,\n",
       "              min_child_samples=20, min_child_weight=0.001, min_split_gain=0.0,\n",
       "              n_estimators=100, n_jobs=-1, num_leaves=31, objective=None,\n",
       "              random_state=None, reg_alpha=0.0, reg_lambda=0.0, silent=True,\n",
       "              subsample=1.0, subsample_for_bin=200000, subsample_freq=0)"
      ]
     },
     "execution_count": 121,
     "metadata": {},
     "output_type": "execute_result"
    }
   ],
   "source": [
    "%%time\n",
    "gbm_model.fit(features___train, target___train, eval_set=[(features___test, target___test)], eval_metric='rmse', \n",
    "              categorical_feature=cat_features)"
   ]
  },
  {
   "cell_type": "code",
   "execution_count": 125,
   "metadata": {},
   "outputs": [
    {
     "name": "stdout",
     "output_type": "stream",
     "text": [
      "RMSE для модели CatBoostRegressor на тестовой выборке: 1659.389183889744\n"
     ]
    }
   ],
   "source": [
    "predictions_gbm_model = gbm_model.predict(features___test, num_iteration=gbm_model.best_iteration_)\n",
    "mse_gbm_model = mean_squared_error(target___test, predictions_gbm_model)\n",
    "print(f\"RMSE для модели CatBoostRegressor на тестовой выборке: {(mse_gbm_model) ** 0.5}\")"
   ]
  },
  {
   "cell_type": "markdown",
   "metadata": {},
   "source": [
    "#### Вывод"
   ]
  },
  {
   "cell_type": "markdown",
   "metadata": {},
   "source": [
    "Опробованы три разных модели, получены результаты RMSE, которые будут обдуманы в следующем разделе"
   ]
  },
  {
   "cell_type": "markdown",
   "metadata": {},
   "source": [
    "## Анализ моделей"
   ]
  },
  {
   "cell_type": "markdown",
   "metadata": {},
   "source": [
    "Модель **LinearRegression**"
   ]
  },
  {
   "cell_type": "markdown",
   "metadata": {},
   "source": [
    "- RMSE: *2713.2107121800545*\n",
    "- Время работы: *30.7 s*"
   ]
  },
  {
   "cell_type": "markdown",
   "metadata": {},
   "source": [
    "Модель **CatBoostRegressor**"
   ]
  },
  {
   "cell_type": "markdown",
   "metadata": {},
   "source": [
    "- RMSE: *1705.5220342707225*\n",
    "- Время работы: *13min 58s*"
   ]
  },
  {
   "cell_type": "markdown",
   "metadata": {},
   "source": [
    "Модель **LightGBM**"
   ]
  },
  {
   "cell_type": "markdown",
   "metadata": {},
   "source": [
    "- RMSE: *1659.389183889744*\n",
    "- Время работы: *11.1 s*"
   ]
  },
  {
   "cell_type": "markdown",
   "metadata": {},
   "source": [
    "#### Вывод"
   ]
  },
  {
   "cell_type": "markdown",
   "metadata": {},
   "source": [
    "Модель линейной регрессии работает относительно быстро, но метрика RMSE слишком высока. CatBoostRegressor гораздо медленнее, но целевая метрика показала результат лучше в 0.6 раза. LightGBM действительно показал себя \"шустрой\" библиотекой, лучшее время работы при лучшем значении RMSE.  \n",
    "  \n",
    "P. S. : пытался \"поиграть\" с параметрами библиотек бустинга, т.к. рассчитывал выжать показатели покрасивше, но jupyter подвисает на такое время, что не дожидался окончания выполнения пода.\n",
    "В связи с чем, прошу дать мне какой-либо плагин для отображения прогресс-бара в notebook и новых библиотек для бустинга, которые не рассматривались в курсе."
   ]
  }
 ],
 "metadata": {
  "kernelspec": {
   "display_name": "Python 3",
   "language": "python",
   "name": "python3"
  },
  "language_info": {
   "codemirror_mode": {
    "name": "ipython",
    "version": 3
   },
   "file_extension": ".py",
   "mimetype": "text/x-python",
   "name": "python",
   "nbconvert_exporter": "python",
   "pygments_lexer": "ipython3",
   "version": "3.8.2"
  },
  "toc": {
   "base_numbering": 1,
   "nav_menu": {},
   "number_sections": true,
   "sideBar": true,
   "skip_h1_title": true,
   "title_cell": "Table of Contents",
   "title_sidebar": "Contents",
   "toc_cell": false,
   "toc_position": {},
   "toc_section_display": true,
   "toc_window_display": false
  }
 },
 "nbformat": 4,
 "nbformat_minor": 2
}
